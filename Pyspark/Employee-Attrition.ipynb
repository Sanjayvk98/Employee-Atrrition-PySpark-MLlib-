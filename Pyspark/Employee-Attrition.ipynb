{
 "cells": [
  {
   "cell_type": "code",
   "execution_count": 155,
   "id": "2813489a-990d-4cde-afba-7d09a4288571",
   "metadata": {},
   "outputs": [],
   "source": [
    "import pandas as pd\n",
    "import numpy as np\n",
    "\n",
    "from pyspark import SparkConf, SparkContext\n",
    "from pyspark.sql import SparkSession, SQLContext\n",
    "\n",
    "from pyspark.sql.types import *\n",
    "import pyspark.sql.functions as F\n",
    "from pyspark.sql.functions import udf, col"
   ]
  },
  {
   "cell_type": "code",
   "execution_count": 156,
   "id": "21b118bf-23d8-4b81-aa69-ac9c41752da5",
   "metadata": {},
   "outputs": [
    {
     "name": "stdout",
     "output_type": "stream",
     "text": [
      "Requirement already satisfied: pyspark in c:\\users\\sanj\\anaconda3\\envs\\tensorflow\\lib\\site-packages (3.5.0)\n",
      "Requirement already satisfied: py4j==0.10.9.7 in c:\\users\\sanj\\anaconda3\\envs\\tensorflow\\lib\\site-packages (from pyspark) (0.10.9.7)\n"
     ]
    }
   ],
   "source": [
    "!pip install pyspark"
   ]
  },
  {
   "cell_type": "code",
   "execution_count": 157,
   "id": "18c07ad7-07ef-4b83-aea5-6d37dcce8d12",
   "metadata": {},
   "outputs": [],
   "source": [
    "spark = SparkSession.builder.appName(\"Employee-Atrrition-2\").getOrCreate()"
   ]
  },
  {
   "cell_type": "code",
   "execution_count": 158,
   "id": "890569ca-f31b-41bc-979f-f97f7de247c0",
   "metadata": {},
   "outputs": [
    {
     "data": {
      "text/html": [
       "\n",
       "            <div>\n",
       "                <p><b>SparkSession - in-memory</b></p>\n",
       "                \n",
       "        <div>\n",
       "            <p><b>SparkContext</b></p>\n",
       "\n",
       "            <p><a href=\"http://Sanj:4040\">Spark UI</a></p>\n",
       "\n",
       "            <dl>\n",
       "              <dt>Version</dt>\n",
       "                <dd><code>v3.5.0</code></dd>\n",
       "              <dt>Master</dt>\n",
       "                <dd><code>local[*]</code></dd>\n",
       "              <dt>AppName</dt>\n",
       "                <dd><code>Employee-Atrrition-2</code></dd>\n",
       "            </dl>\n",
       "        </div>\n",
       "        \n",
       "            </div>\n",
       "        "
      ],
      "text/plain": [
       "<pyspark.sql.session.SparkSession at 0x275ba58edc0>"
      ]
     },
     "execution_count": 158,
     "metadata": {},
     "output_type": "execute_result"
    }
   ],
   "source": [
    "spark"
   ]
  },
  {
   "cell_type": "code",
   "execution_count": 159,
   "id": "a66be647-fd38-4333-b6b5-28fcc50b1ded",
   "metadata": {},
   "outputs": [],
   "source": [
    "import pyspark.sql.functions"
   ]
  },
  {
   "cell_type": "code",
   "execution_count": 160,
   "id": "71f18873-64a5-4af4-aacf-2922d20df530",
   "metadata": {},
   "outputs": [],
   "source": [
    "df= spark.read.csv(\"C:/Users/sanj/OneDrive/Documents/lr/HR Employee Attrition.csv\",header=True,inferSchema=True)"
   ]
  },
  {
   "cell_type": "code",
   "execution_count": 161,
   "id": "b85eedb5-dadc-45b4-9233-18ac016a9f13",
   "metadata": {},
   "outputs": [
    {
     "name": "stdout",
     "output_type": "stream",
     "text": [
      "root\n",
      " |-- Age: integer (nullable = true)\n",
      " |-- BusinessTravel: string (nullable = true)\n",
      " |-- DailyRate: integer (nullable = true)\n",
      " |-- Department: string (nullable = true)\n",
      " |-- DistanceFromHome: integer (nullable = true)\n",
      " |-- Education: integer (nullable = true)\n",
      " |-- EducationField: string (nullable = true)\n",
      " |-- EmployeeCount: integer (nullable = true)\n",
      " |-- EmployeeNumber: integer (nullable = true)\n",
      " |-- EnvironmentSatisfaction: integer (nullable = true)\n",
      " |-- Gender: string (nullable = true)\n",
      " |-- HourlyRate: integer (nullable = true)\n",
      " |-- JobInvolvement: integer (nullable = true)\n",
      " |-- JobLevel: integer (nullable = true)\n",
      " |-- JobRole: string (nullable = true)\n",
      " |-- JobSatisfaction: integer (nullable = true)\n",
      " |-- MaritalStatus: string (nullable = true)\n",
      " |-- MonthlyIncome: integer (nullable = true)\n",
      " |-- MonthlyRate: integer (nullable = true)\n",
      " |-- NumCompaniesWorked: integer (nullable = true)\n",
      " |-- OverTime: integer (nullable = true)\n",
      " |-- PercentSalaryHike: integer (nullable = true)\n",
      " |-- PerformanceRating: integer (nullable = true)\n",
      " |-- RelationshipSatisfaction: integer (nullable = true)\n",
      " |-- StandardHours: integer (nullable = true)\n",
      " |-- StockOptionLevel: integer (nullable = true)\n",
      " |-- TotalWorkingYears: integer (nullable = true)\n",
      " |-- TrainingTimesLastYear: integer (nullable = true)\n",
      " |-- WorkLifeBalance: integer (nullable = true)\n",
      " |-- YearsAtCompany: integer (nullable = true)\n",
      " |-- YearsInCurrentRole: integer (nullable = true)\n",
      " |-- YearsSinceLastPromotion: integer (nullable = true)\n",
      " |-- YearsWithCurrManager: integer (nullable = true)\n",
      " |-- Attrition: integer (nullable = true)\n",
      "\n"
     ]
    }
   ],
   "source": [
    "df.printSchema()"
   ]
  },
  {
   "cell_type": "code",
   "execution_count": 162,
   "id": "847e9caa-2fa0-42d4-8780-bcab4fe035f3",
   "metadata": {},
   "outputs": [
    {
     "name": "stdout",
     "output_type": "stream",
     "text": [
      "+---+-----------------+---------+--------------------+----------------+---------+--------------+-------------+--------------+-----------------------+------+----------+--------------+--------+--------------------+---------------+-------------+-------------+-----------+------------------+--------+-----------------+-----------------+------------------------+-------------+----------------+-----------------+---------------------+---------------+--------------+------------------+-----------------------+--------------------+---------+\n",
      "|Age|   BusinessTravel|DailyRate|          Department|DistanceFromHome|Education|EducationField|EmployeeCount|EmployeeNumber|EnvironmentSatisfaction|Gender|HourlyRate|JobInvolvement|JobLevel|             JobRole|JobSatisfaction|MaritalStatus|MonthlyIncome|MonthlyRate|NumCompaniesWorked|OverTime|PercentSalaryHike|PerformanceRating|RelationshipSatisfaction|StandardHours|StockOptionLevel|TotalWorkingYears|TrainingTimesLastYear|WorkLifeBalance|YearsAtCompany|YearsInCurrentRole|YearsSinceLastPromotion|YearsWithCurrManager|Attrition|\n",
      "+---+-----------------+---------+--------------------+----------------+---------+--------------+-------------+--------------+-----------------------+------+----------+--------------+--------+--------------------+---------------+-------------+-------------+-----------+------------------+--------+-----------------+-----------------+------------------------+-------------+----------------+-----------------+---------------------+---------------+--------------+------------------+-----------------------+--------------------+---------+\n",
      "| 41|    Travel_Rarely|     1102|               Sales|               1|        2| Life Sciences|            1|             1|                      2|Female|        94|             3|       2|     Sales Executive|              4|       Single|         5993|      19479|                 8|       1|               11|                3|                       1|           80|               0|                8|                    0|              1|             6|                 4|                      0|                   5|        1|\n",
      "| 49|Travel_Frequently|      279|Research & Develo...|               8|        1| Life Sciences|            1|             2|                      3|  Male|        61|             2|       2|  Research Scientist|              2|      Married|         5130|      24907|                 1|       0|               23|                4|                       4|           80|               1|               10|                    3|              3|            10|                 7|                      1|                   7|        0|\n",
      "| 37|    Travel_Rarely|     1373|Research & Develo...|               2|        2|         Other|            1|             4|                      4|  Male|        92|             2|       1|Laboratory Techni...|              3|       Single|         2090|       2396|                 6|       1|               15|                3|                       2|           80|               0|                7|                    3|              3|             0|                 0|                      0|                   0|        1|\n",
      "| 33|Travel_Frequently|     1392|Research & Develo...|               3|        4| Life Sciences|            1|             5|                      4|Female|        56|             3|       1|  Research Scientist|              3|      Married|         2909|      23159|                 1|       1|               11|                3|                       3|           80|               0|                8|                    3|              3|             8|                 7|                      3|                   0|        0|\n",
      "| 27|    Travel_Rarely|      591|Research & Develo...|               2|        1|       Medical|            1|             7|                      1|  Male|        40|             3|       1|Laboratory Techni...|              2|      Married|         3468|      16632|                 9|       0|               12|                3|                       4|           80|               1|                6|                    3|              3|             2|                 2|                      2|                   2|        0|\n",
      "+---+-----------------+---------+--------------------+----------------+---------+--------------+-------------+--------------+-----------------------+------+----------+--------------+--------+--------------------+---------------+-------------+-------------+-----------+------------------+--------+-----------------+-----------------+------------------------+-------------+----------------+-----------------+---------------------+---------------+--------------+------------------+-----------------------+--------------------+---------+\n",
      "only showing top 5 rows\n",
      "\n"
     ]
    }
   ],
   "source": [
    "df.show(5)"
   ]
  },
  {
   "cell_type": "code",
   "execution_count": 163,
   "id": "e2c71657-3241-4bcc-91d4-032ed50c4004",
   "metadata": {},
   "outputs": [
    {
     "data": {
      "text/plain": [
       "['Age',\n",
       " 'BusinessTravel',\n",
       " 'DailyRate',\n",
       " 'Department',\n",
       " 'DistanceFromHome',\n",
       " 'Education',\n",
       " 'EducationField',\n",
       " 'EmployeeCount',\n",
       " 'EmployeeNumber',\n",
       " 'EnvironmentSatisfaction',\n",
       " 'Gender',\n",
       " 'HourlyRate',\n",
       " 'JobInvolvement',\n",
       " 'JobLevel',\n",
       " 'JobRole',\n",
       " 'JobSatisfaction',\n",
       " 'MaritalStatus',\n",
       " 'MonthlyIncome',\n",
       " 'MonthlyRate',\n",
       " 'NumCompaniesWorked',\n",
       " 'OverTime',\n",
       " 'PercentSalaryHike',\n",
       " 'PerformanceRating',\n",
       " 'RelationshipSatisfaction',\n",
       " 'StandardHours',\n",
       " 'StockOptionLevel',\n",
       " 'TotalWorkingYears',\n",
       " 'TrainingTimesLastYear',\n",
       " 'WorkLifeBalance',\n",
       " 'YearsAtCompany',\n",
       " 'YearsInCurrentRole',\n",
       " 'YearsSinceLastPromotion',\n",
       " 'YearsWithCurrManager',\n",
       " 'Attrition']"
      ]
     },
     "execution_count": 163,
     "metadata": {},
     "output_type": "execute_result"
    }
   ],
   "source": [
    "df.columns\n"
   ]
  },
  {
   "cell_type": "code",
   "execution_count": 164,
   "id": "00e200dd-4e96-40fb-a94d-b7f503d4419b",
   "metadata": {},
   "outputs": [
    {
     "name": "stdout",
     "output_type": "stream",
     "text": [
      "+----------------+------------------+\n",
      "|  EducationField|avg(MonthlyIncome)|\n",
      "+----------------+------------------+\n",
      "|Technical Degree|  5758.30303030303|\n",
      "|           Other| 6071.548780487805|\n",
      "|       Marketing| 7348.584905660377|\n",
      "|         Medical| 6510.036637931034|\n",
      "|   Life Sciences| 6463.288778877888|\n",
      "| Human Resources| 7241.148148148148|\n",
      "+----------------+------------------+\n",
      "\n"
     ]
    }
   ],
   "source": [
    "df.groupby(\"EducationField\").mean(\"MonthlyIncome\").show()"
   ]
  },
  {
   "cell_type": "code",
   "execution_count": 165,
   "id": "35d383c2-e8ac-404e-ad38-a67eff454327",
   "metadata": {},
   "outputs": [
    {
     "name": "stdout",
     "output_type": "stream",
     "text": [
      "+----------------+------------------+\n",
      "|  EducationField|sum(MonthlyIncome)|\n",
      "+----------------+------------------+\n",
      "|Technical Degree|            760096|\n",
      "|           Other|            497867|\n",
      "|       Marketing|           1168425|\n",
      "|         Medical|           3020657|\n",
      "|   Life Sciences|           3916753|\n",
      "| Human Resources|            195511|\n",
      "+----------------+------------------+\n",
      "\n"
     ]
    }
   ],
   "source": [
    "df.groupby(\"EducationField\").sum(\"MonthlyIncome\").show()"
   ]
  },
  {
   "cell_type": "code",
   "execution_count": 166,
   "id": "dd496dd7-e3d6-484e-a572-d11d43b0788b",
   "metadata": {},
   "outputs": [
    {
     "name": "stdout",
     "output_type": "stream",
     "text": [
      "+----------------+------------------+\n",
      "|  EducationField|max(MonthlyIncome)|\n",
      "+----------------+------------------+\n",
      "|Technical Degree|             19943|\n",
      "|           Other|             19613|\n",
      "|       Marketing|             19845|\n",
      "|         Medical|             19859|\n",
      "|   Life Sciences|             19999|\n",
      "| Human Resources|             19636|\n",
      "+----------------+------------------+\n",
      "\n"
     ]
    }
   ],
   "source": [
    "df.groupby(\"EducationField\").max(\"MonthlyIncome\").show()"
   ]
  },
  {
   "cell_type": "code",
   "execution_count": 167,
   "id": "e37e47a8-818f-4323-bf6a-5d8b4c859f59",
   "metadata": {},
   "outputs": [
    {
     "name": "stdout",
     "output_type": "stream",
     "text": [
      "+----------------+------------------+\n",
      "|  EducationField|min(MonthlyIncome)|\n",
      "+----------------+------------------+\n",
      "|Technical Degree|              1091|\n",
      "|           Other|              1951|\n",
      "|       Marketing|              1675|\n",
      "|         Medical|              1009|\n",
      "|   Life Sciences|              1051|\n",
      "| Human Resources|              1555|\n",
      "+----------------+------------------+\n",
      "\n"
     ]
    }
   ],
   "source": [
    "df.groupby(\"EducationField\").min(\"MonthlyIncome\").show()"
   ]
  },
  {
   "cell_type": "code",
   "execution_count": 168,
   "id": "c27d961f-e6eb-4082-879f-1da71c66c16f",
   "metadata": {},
   "outputs": [],
   "source": [
    "mi=df.groupby(\"EducationField\").sum(\"MonthlyIncome\")"
   ]
  },
  {
   "cell_type": "code",
   "execution_count": 169,
   "id": "0bc48cd9-ac5f-4c9c-9118-59533a3a2bfb",
   "metadata": {},
   "outputs": [
    {
     "data": {
      "text/plain": [
       "<Axes: xlabel='EducationField'>"
      ]
     },
     "execution_count": 169,
     "metadata": {},
     "output_type": "execute_result"
    },
    {
     "data": {
      "image/png": "[encoded data removed]",
      "text/plain": [
       "<Figure size 1400x600 with 1 Axes>"
      ]
     },
     "metadata": {},
     "output_type": "display_data"
    }
   ],
   "source": [
    "mi.toPandas().plot.bar(x='EducationField',figsize=(14, 6),color='cyan')"
   ]
  },
  {
   "cell_type": "code",
   "execution_count": 170,
   "id": "c0632e8a-9277-40ea-a917-24ce64fe56e4",
   "metadata": {},
   "outputs": [],
   "source": [
    "mi_e=df.groupby(\"JobRole\").sum(\"MonthlyIncome\")"
   ]
  },
  {
   "cell_type": "code",
   "execution_count": 171,
   "id": "425735f8-fbc9-4bb9-ab1e-a944644df2bf",
   "metadata": {},
   "outputs": [
    {
     "data": {
      "text/plain": [
       "<Axes: xlabel='JobRole'>"
      ]
     },
     "execution_count": 171,
     "metadata": {},
     "output_type": "execute_result"
    },
    {
     "data": {
      "image/png": "[encoded data removed]",
      "text/plain": [
       "<Figure size 1400x600 with 1 Axes>"
      ]
     },
     "metadata": {},
     "output_type": "display_data"
    }
   ],
   "source": [
    "mi_e.toPandas().plot.bar(x='JobRole',figsize=(14, 6),color='springgreen')"
   ]
  },
  {
   "cell_type": "code",
   "execution_count": 172,
   "id": "d6c33f9c-1a76-432a-897e-58ac17263fd4",
   "metadata": {},
   "outputs": [
    {
     "name": "stdout",
     "output_type": "stream",
     "text": [
      "+--------------------+------------------+\n",
      "|          Department|avg(MonthlyIncome)|\n",
      "+--------------------+------------------+\n",
      "|               Sales|  6959.17264573991|\n",
      "|Research & Develo...| 6281.252861602497|\n",
      "|     Human Resources| 6654.507936507936|\n",
      "+--------------------+------------------+\n",
      "\n"
     ]
    }
   ],
   "source": [
    "df.groupby(\"Department\").mean(\"MonthlyIncome\").show()"
   ]
  },
  {
   "cell_type": "code",
   "execution_count": 173,
   "id": "92145e33-fb71-42c0-8ec5-63ccc3744b50",
   "metadata": {},
   "outputs": [
    {
     "name": "stdout",
     "output_type": "stream",
     "text": [
      "+--------------------+------------------+\n",
      "|          Department|sum(MonthlyIncome)|\n",
      "+--------------------+------------------+\n",
      "|               Sales|           3103791|\n",
      "|Research & Develo...|           6036284|\n",
      "|     Human Resources|            419234|\n",
      "+--------------------+------------------+\n",
      "\n"
     ]
    }
   ],
   "source": [
    "df.groupby(\"Department\").sum(\"MonthlyIncome\").show()"
   ]
  },
  {
   "cell_type": "code",
   "execution_count": 174,
   "id": "fe76f7fb-2cbf-4550-84b5-b2c0c7d97ff3",
   "metadata": {},
   "outputs": [
    {
     "name": "stdout",
     "output_type": "stream",
     "text": [
      "+-----------------+------------------+\n",
      "|   BusinessTravel|sum(MonthlyIncome)|\n",
      "+-----------------+------------------+\n",
      "|Travel_Frequently|           1715662|\n",
      "|        0n-Travel|            939292|\n",
      "|    Travel_Rarely|           6904355|\n",
      "+-----------------+------------------+\n",
      "\n"
     ]
    }
   ],
   "source": [
    "df.groupby(\"BusinessTravel\").sum(\"MonthlyIncome\").show()"
   ]
  },
  {
   "cell_type": "code",
   "execution_count": 175,
   "id": "e5a0b51e-649e-4a01-b80b-3cb366c22ee2",
   "metadata": {},
   "outputs": [
    {
     "name": "stdout",
     "output_type": "stream",
     "text": [
      "+-----------------+--------------------+------------------+\n",
      "|   BusinessTravel|             JobRole|avg(MonthlyIncome)|\n",
      "+-----------------+--------------------+------------------+\n",
      "|    Travel_Rarely|  Research Scientist|3244.9142857142856|\n",
      "|Travel_Frequently|     Human Resources|            4306.6|\n",
      "|Travel_Frequently|  Research Scientist|3442.3703703703704|\n",
      "|Travel_Frequently|Sales Representative|2250.9565217391305|\n",
      "|Travel_Frequently|Manufacturing Dir...| 7872.172413793103|\n",
      "|        0n-Travel|Sales Representative|            2658.8|\n",
      "|    Travel_Rarely|             Manager|17152.844155844155|\n",
      "|    Travel_Rarely|Laboratory Techni...|3152.1722222222224|\n",
      "|    Travel_Rarely|Sales Representative|2779.8545454545456|\n",
      "|Travel_Frequently|     Sales Executive| 7085.457627118644|\n",
      "|    Travel_Rarely|   Research Director| 16322.90322580645|\n",
      "|        0n-Travel|Laboratory Techni...|3418.3928571428573|\n",
      "|        0n-Travel|  Research Scientist|2812.5714285714284|\n",
      "|        0n-Travel|             Manager|17206.083333333332|\n",
      "|        0n-Travel|     Human Resources|            4500.0|\n",
      "|Travel_Frequently|             Manager|17329.923076923078|\n",
      "|Travel_Frequently|Laboratory Techni...|3437.6666666666665|\n",
      "|        0n-Travel|     Sales Executive| 6522.897435897436|\n",
      "|Travel_Frequently|Healthcare Repres...|7667.7307692307695|\n",
      "|        0n-Travel|Healthcare Repres...|            7109.6|\n",
      "+-----------------+--------------------+------------------+\n",
      "only showing top 20 rows\n",
      "\n"
     ]
    }
   ],
   "source": [
    "df.groupby(\"BusinessTravel\",\"JobRole\").mean(\"MonthlyIncome\").show()"
   ]
  },
  {
   "cell_type": "code",
   "execution_count": 176,
   "id": "4e6d9f17-48b8-4621-ac42-a91eda1c0a66",
   "metadata": {},
   "outputs": [
    {
     "name": "stdout",
     "output_type": "stream",
     "text": [
      "+-----------------+--------------------+------------------+\n",
      "|   BusinessTravel|          Department|avg(MonthlyIncome)|\n",
      "+-----------------+--------------------+------------------+\n",
      "|Travel_Frequently|     Human Resources| 5569.636363636364|\n",
      "|Travel_Frequently|Research & Develo...| 6306.461538461538|\n",
      "|    Travel_Rarely|               Sales|  7227.55873015873|\n",
      "|        0n-Travel|               Sales| 6818.936170212766|\n",
      "|    Travel_Rarely|Research & Develo...|  6339.99706744868|\n",
      "|        0n-Travel|     Human Resources| 9028.666666666666|\n",
      "|Travel_Frequently|               Sales| 6031.190476190476|\n",
      "|    Travel_Rarely|     Human Resources| 6604.260869565217|\n",
      "|        0n-Travel|Research & Develo...| 5820.927835051546|\n",
      "+-----------------+--------------------+------------------+\n",
      "\n"
     ]
    }
   ],
   "source": [
    "df.groupby(\"BusinessTravel\",\"Department\").mean(\"MonthlyIncome\").show()"
   ]
  },
  {
   "cell_type": "code",
   "execution_count": 177,
   "id": "dd9cfbfd-5bb9-4ae5-828a-f592a29094d8",
   "metadata": {},
   "outputs": [
    {
     "name": "stdout",
     "output_type": "stream",
     "text": [
      "+--------------------+------------------+\n",
      "|          Department|max(MonthlyIncome)|\n",
      "+--------------------+------------------+\n",
      "|               Sales|             19847|\n",
      "|Research & Develo...|             19999|\n",
      "|     Human Resources|             19717|\n",
      "+--------------------+------------------+\n",
      "\n"
     ]
    }
   ],
   "source": [
    "df.groupby(\"Department\").max(\"MonthlyIncome\").show()"
   ]
  },
  {
   "cell_type": "code",
   "execution_count": 178,
   "id": "5ae0a692-efcf-468f-badb-78fd60dc92cd",
   "metadata": {},
   "outputs": [
    {
     "name": "stdout",
     "output_type": "stream",
     "text": [
      "+--------------------+------------------+\n",
      "|          Department|min(MonthlyIncome)|\n",
      "+--------------------+------------------+\n",
      "|               Sales|              1052|\n",
      "|Research & Develo...|              1009|\n",
      "|     Human Resources|              1555|\n",
      "+--------------------+------------------+\n",
      "\n"
     ]
    }
   ],
   "source": [
    "df.groupby(\"Department\").min(\"MonthlyIncome\").show()"
   ]
  },
  {
   "cell_type": "code",
   "execution_count": 179,
   "id": "70351484-1b9f-4207-a067-2a20a85233f9",
   "metadata": {},
   "outputs": [
    {
     "name": "stdout",
     "output_type": "stream",
     "text": [
      "+--------------------+------------------+\n",
      "|             JobRole|min(MonthlyIncome)|\n",
      "+--------------------+------------------+\n",
      "|     Sales Executive|              4001|\n",
      "|Manufacturing Dir...|              4011|\n",
      "|Laboratory Techni...|              1102|\n",
      "|Sales Representative|              1052|\n",
      "|Healthcare Repres...|              4000|\n",
      "|  Research Scientist|              1009|\n",
      "|             Manager|             11244|\n",
      "|   Research Director|             11031|\n",
      "|     Human Resources|              1555|\n",
      "+--------------------+------------------+\n",
      "\n"
     ]
    }
   ],
   "source": [
    "df.groupby(\"JobRole\").min(\"MonthlyIncome\").show()"
   ]
  },
  {
   "cell_type": "code",
   "execution_count": 180,
   "id": "0ea7c624-7a4f-4ac6-b7c4-1d93be05cbfe",
   "metadata": {},
   "outputs": [
    {
     "name": "stdout",
     "output_type": "stream",
     "text": [
      "+--------------------+------------------+\n",
      "|             JobRole|max(MonthlyIncome)|\n",
      "+--------------------+------------------+\n",
      "|     Sales Executive|             13872|\n",
      "|Manufacturing Dir...|             13973|\n",
      "|Laboratory Techni...|              7403|\n",
      "|Sales Representative|              6632|\n",
      "|Healthcare Repres...|             13966|\n",
      "|  Research Scientist|              9724|\n",
      "|             Manager|             19999|\n",
      "|   Research Director|             19973|\n",
      "|     Human Resources|             10725|\n",
      "+--------------------+------------------+\n",
      "\n"
     ]
    }
   ],
   "source": [
    "df.groupby(\"JobRole\").max(\"MonthlyIncome\").show()"
   ]
  },
  {
   "cell_type": "code",
   "execution_count": 181,
   "id": "85ed4484-ba33-41f7-8199-93b95604ef0a",
   "metadata": {},
   "outputs": [
    {
     "name": "stdout",
     "output_type": "stream",
     "text": [
      "+--------------------+------------------+\n",
      "|             JobRole|sum(MonthlyIncome)|\n",
      "+--------------------+------------------+\n",
      "|     Sales Executive|           2257315|\n",
      "|Manufacturing Dir...|           1057795|\n",
      "|Laboratory Techni...|            838427|\n",
      "|Sales Representative|            217958|\n",
      "|Healthcare Repres...|            986268|\n",
      "|  Research Scientist|            946072|\n",
      "|             Manager|           1752531|\n",
      "|   Research Director|           1282684|\n",
      "|     Human Resources|            220259|\n",
      "+--------------------+------------------+\n",
      "\n"
     ]
    }
   ],
   "source": [
    "df.groupby(\"JobRole\").sum(\"MonthlyIncome\").show()"
   ]
  },
  {
   "cell_type": "code",
   "execution_count": 182,
   "id": "82fa3800-b2a3-4349-b880-dc08de7910c1",
   "metadata": {},
   "outputs": [
    {
     "name": "stdout",
     "output_type": "stream",
     "text": [
      "+--------------------+------------------+\n",
      "|             JobRole|avg(MonthlyIncome)|\n",
      "+--------------------+------------------+\n",
      "|     Sales Executive|6924.2791411042945|\n",
      "|Manufacturing Dir...| 7295.137931034483|\n",
      "|Laboratory Techni...| 3237.169884169884|\n",
      "|Sales Representative|            2626.0|\n",
      "|Healthcare Repres...| 7528.763358778626|\n",
      "|  Research Scientist| 3239.972602739726|\n",
      "|             Manager|17181.676470588234|\n",
      "|   Research Director|          16033.55|\n",
      "|     Human Resources|           4235.75|\n",
      "+--------------------+------------------+\n",
      "\n"
     ]
    }
   ],
   "source": [
    "df.groupby(\"JobRole\").mean(\"MonthlyIncome\").show()"
   ]
  },
  {
   "cell_type": "code",
   "execution_count": 183,
   "id": "b3207747-d55a-4f31-9fd0-d54d5d3f67cf",
   "metadata": {},
   "outputs": [
    {
     "name": "stdout",
     "output_type": "stream",
     "text": [
      "+--------------+-----------+\n",
      "|EducationField|MonthlyRate|\n",
      "+--------------+-----------+\n",
      "| Life Sciences|      19479|\n",
      "| Life Sciences|      24907|\n",
      "|         Other|       2396|\n",
      "| Life Sciences|      23159|\n",
      "|       Medical|      16632|\n",
      "| Life Sciences|      11864|\n",
      "|       Medical|       9964|\n",
      "| Life Sciences|      13335|\n",
      "| Life Sciences|       8787|\n",
      "|       Medical|      16577|\n",
      "+--------------+-----------+\n",
      "only showing top 10 rows\n",
      "\n"
     ]
    }
   ],
   "source": [
    "df.select('EducationField','MonthlyRate').show(10)"
   ]
  },
  {
   "cell_type": "code",
   "execution_count": 184,
   "id": "d9a21b22-7f37-4e44-b49e-f03efcc74e14",
   "metadata": {},
   "outputs": [
    {
     "name": "stdout",
     "output_type": "stream",
     "text": [
      "+------+------------------+\n",
      "|Gender|avg(MonthlyIncome)|\n",
      "+------+------------------+\n",
      "|Female| 6686.566326530612|\n",
      "|  Male| 6380.507936507936|\n",
      "+------+------------------+\n",
      "\n"
     ]
    }
   ],
   "source": [
    "df.groupby(\"Gender\").mean(\"MonthlyIncome\").show()"
   ]
  },
  {
   "cell_type": "code",
   "execution_count": 185,
   "id": "66ed1f48-a26d-4abe-85e2-1ff96c4f8f73",
   "metadata": {},
   "outputs": [
    {
     "name": "stdout",
     "output_type": "stream",
     "text": [
      "+---------+-----+\n",
      "|Attrition|count|\n",
      "+---------+-----+\n",
      "|        1|  237|\n",
      "|        0| 1233|\n",
      "+---------+-----+\n",
      "\n"
     ]
    }
   ],
   "source": [
    "df.groupby(\"Attrition\").count().show()"
   ]
  },
  {
   "cell_type": "code",
   "execution_count": 186,
   "id": "ec6e4d84-32aa-452a-8eef-d8a8e56dbbb3",
   "metadata": {},
   "outputs": [],
   "source": [
    "res_df = df.groupBy(\"EducationField\").count().sort(\"EducationField\", ascending=False)"
   ]
  },
  {
   "cell_type": "code",
   "execution_count": 187,
   "id": "5a8dda17-cde0-41f1-8263-125f96042ab9",
   "metadata": {},
   "outputs": [
    {
     "name": "stdout",
     "output_type": "stream",
     "text": [
      "+----------------+-----+\n",
      "|  EducationField|count|\n",
      "+----------------+-----+\n",
      "|Technical Degree|  132|\n",
      "|           Other|   82|\n",
      "|         Medical|  464|\n",
      "|       Marketing|  159|\n",
      "|   Life Sciences|  606|\n",
      "| Human Resources|   27|\n",
      "+----------------+-----+\n",
      "\n"
     ]
    }
   ],
   "source": [
    "res_df.show()"
   ]
  },
  {
   "cell_type": "code",
   "execution_count": 188,
   "id": "efd63c00-6df1-41c6-84d7-22a75087f7d1",
   "metadata": {},
   "outputs": [
    {
     "data": {
      "text/plain": [
       "<Axes: xlabel='EducationField'>"
      ]
     },
     "execution_count": 188,
     "metadata": {},
     "output_type": "execute_result"
    },
    {
     "data": {
      "image/png": "[encoded data removed]",
      "text/plain": [
       "<Figure size 1400x600 with 1 Axes>"
      ]
     },
     "metadata": {},
     "output_type": "display_data"
    }
   ],
   "source": [
    "res_df.toPandas().plot.bar(x='EducationField',figsize=(14, 6))"
   ]
  },
  {
   "cell_type": "code",
   "execution_count": 189,
   "id": "1ad0bd31-4483-4e56-913c-0d05ab16187d",
   "metadata": {},
   "outputs": [
    {
     "data": {
      "text/html": [
       "<div>\n",
       "<style scoped>\n",
       "    .dataframe tbody tr th:only-of-type {\n",
       "        vertical-align: middle;\n",
       "    }\n",
       "\n",
       "    .dataframe tbody tr th {\n",
       "        vertical-align: top;\n",
       "    }\n",
       "\n",
       "    .dataframe thead th {\n",
       "        text-align: right;\n",
       "    }\n",
       "</style>\n",
       "<table border=\"1\" class=\"dataframe\">\n",
       "  <thead>\n",
       "    <tr style=\"text-align: right;\">\n",
       "      <th></th>\n",
       "      <th>summary</th>\n",
       "      <th>Age</th>\n",
       "      <th>BusinessTravel</th>\n",
       "      <th>DailyRate</th>\n",
       "      <th>Department</th>\n",
       "      <th>DistanceFromHome</th>\n",
       "      <th>Education</th>\n",
       "      <th>EducationField</th>\n",
       "      <th>EmployeeCount</th>\n",
       "      <th>EmployeeNumber</th>\n",
       "      <th>...</th>\n",
       "      <th>StandardHours</th>\n",
       "      <th>StockOptionLevel</th>\n",
       "      <th>TotalWorkingYears</th>\n",
       "      <th>TrainingTimesLastYear</th>\n",
       "      <th>WorkLifeBalance</th>\n",
       "      <th>YearsAtCompany</th>\n",
       "      <th>YearsInCurrentRole</th>\n",
       "      <th>YearsSinceLastPromotion</th>\n",
       "      <th>YearsWithCurrManager</th>\n",
       "      <th>Attrition</th>\n",
       "    </tr>\n",
       "  </thead>\n",
       "  <tbody>\n",
       "    <tr>\n",
       "      <th>0</th>\n",
       "      <td>count</td>\n",
       "      <td>1470</td>\n",
       "      <td>1470</td>\n",
       "      <td>1470</td>\n",
       "      <td>1470</td>\n",
       "      <td>1470</td>\n",
       "      <td>1470</td>\n",
       "      <td>1470</td>\n",
       "      <td>1470</td>\n",
       "      <td>1470</td>\n",
       "      <td>...</td>\n",
       "      <td>1470</td>\n",
       "      <td>1470</td>\n",
       "      <td>1470</td>\n",
       "      <td>1470</td>\n",
       "      <td>1470</td>\n",
       "      <td>1470</td>\n",
       "      <td>1470</td>\n",
       "      <td>1470</td>\n",
       "      <td>1470</td>\n",
       "      <td>1470</td>\n",
       "    </tr>\n",
       "    <tr>\n",
       "      <th>1</th>\n",
       "      <td>mean</td>\n",
       "      <td>36.923809523809524</td>\n",
       "      <td>None</td>\n",
       "      <td>802.4857142857143</td>\n",
       "      <td>None</td>\n",
       "      <td>9.19251700680272</td>\n",
       "      <td>2.912925170068027</td>\n",
       "      <td>None</td>\n",
       "      <td>1.0</td>\n",
       "      <td>1024.865306122449</td>\n",
       "      <td>...</td>\n",
       "      <td>80.0</td>\n",
       "      <td>0.7938775510204081</td>\n",
       "      <td>11.279591836734694</td>\n",
       "      <td>2.7993197278911564</td>\n",
       "      <td>2.7612244897959184</td>\n",
       "      <td>7.0081632653061225</td>\n",
       "      <td>4.229251700680272</td>\n",
       "      <td>2.1877551020408164</td>\n",
       "      <td>4.12312925170068</td>\n",
       "      <td>0.16122448979591836</td>\n",
       "    </tr>\n",
       "    <tr>\n",
       "      <th>2</th>\n",
       "      <td>stddev</td>\n",
       "      <td>9.135373489136729</td>\n",
       "      <td>None</td>\n",
       "      <td>403.50909994352804</td>\n",
       "      <td>None</td>\n",
       "      <td>8.10686443566608</td>\n",
       "      <td>1.0241649445978718</td>\n",
       "      <td>None</td>\n",
       "      <td>0.0</td>\n",
       "      <td>602.0243348474752</td>\n",
       "      <td>...</td>\n",
       "      <td>0.0</td>\n",
       "      <td>0.8520766679308381</td>\n",
       "      <td>7.780781675514995</td>\n",
       "      <td>1.2892706207958466</td>\n",
       "      <td>0.7064758297141507</td>\n",
       "      <td>6.126525152403571</td>\n",
       "      <td>3.623137034670627</td>\n",
       "      <td>3.2224302791379693</td>\n",
       "      <td>3.5681361205404363</td>\n",
       "      <td>0.36786303197196196</td>\n",
       "    </tr>\n",
       "    <tr>\n",
       "      <th>3</th>\n",
       "      <td>min</td>\n",
       "      <td>18</td>\n",
       "      <td>0n-Travel</td>\n",
       "      <td>102</td>\n",
       "      <td>Human Resources</td>\n",
       "      <td>1</td>\n",
       "      <td>1</td>\n",
       "      <td>Human Resources</td>\n",
       "      <td>1</td>\n",
       "      <td>1</td>\n",
       "      <td>...</td>\n",
       "      <td>80</td>\n",
       "      <td>0</td>\n",
       "      <td>0</td>\n",
       "      <td>0</td>\n",
       "      <td>1</td>\n",
       "      <td>0</td>\n",
       "      <td>0</td>\n",
       "      <td>0</td>\n",
       "      <td>0</td>\n",
       "      <td>0</td>\n",
       "    </tr>\n",
       "    <tr>\n",
       "      <th>4</th>\n",
       "      <td>max</td>\n",
       "      <td>60</td>\n",
       "      <td>Travel_Rarely</td>\n",
       "      <td>1499</td>\n",
       "      <td>Sales</td>\n",
       "      <td>29</td>\n",
       "      <td>5</td>\n",
       "      <td>Technical Degree</td>\n",
       "      <td>1</td>\n",
       "      <td>2068</td>\n",
       "      <td>...</td>\n",
       "      <td>80</td>\n",
       "      <td>3</td>\n",
       "      <td>40</td>\n",
       "      <td>6</td>\n",
       "      <td>4</td>\n",
       "      <td>40</td>\n",
       "      <td>18</td>\n",
       "      <td>15</td>\n",
       "      <td>17</td>\n",
       "      <td>1</td>\n",
       "    </tr>\n",
       "  </tbody>\n",
       "</table>\n",
       "<p>5 rows × 35 columns</p>\n",
       "</div>"
      ],
      "text/plain": [
       "  summary                 Age BusinessTravel           DailyRate  \\\n",
       "0   count                1470           1470                1470   \n",
       "1    mean  36.923809523809524           None   802.4857142857143   \n",
       "2  stddev   9.135373489136729           None  403.50909994352804   \n",
       "3     min                  18      0n-Travel                 102   \n",
       "4     max                  60  Travel_Rarely                1499   \n",
       "\n",
       "        Department  DistanceFromHome           Education    EducationField  \\\n",
       "0             1470              1470                1470              1470   \n",
       "1             None  9.19251700680272   2.912925170068027              None   \n",
       "2             None  8.10686443566608  1.0241649445978718              None   \n",
       "3  Human Resources                 1                   1   Human Resources   \n",
       "4            Sales                29                   5  Technical Degree   \n",
       "\n",
       "  EmployeeCount     EmployeeNumber  ... StandardHours    StockOptionLevel  \\\n",
       "0          1470               1470  ...          1470                1470   \n",
       "1           1.0  1024.865306122449  ...          80.0  0.7938775510204081   \n",
       "2           0.0  602.0243348474752  ...           0.0  0.8520766679308381   \n",
       "3             1                  1  ...            80                   0   \n",
       "4             1               2068  ...            80                   3   \n",
       "\n",
       "    TotalWorkingYears TrainingTimesLastYear     WorkLifeBalance  \\\n",
       "0                1470                  1470                1470   \n",
       "1  11.279591836734694    2.7993197278911564  2.7612244897959184   \n",
       "2   7.780781675514995    1.2892706207958466  0.7064758297141507   \n",
       "3                   0                     0                   1   \n",
       "4                  40                     6                   4   \n",
       "\n",
       "       YearsAtCompany YearsInCurrentRole YearsSinceLastPromotion  \\\n",
       "0                1470               1470                    1470   \n",
       "1  7.0081632653061225  4.229251700680272      2.1877551020408164   \n",
       "2   6.126525152403571  3.623137034670627      3.2224302791379693   \n",
       "3                   0                  0                       0   \n",
       "4                  40                 18                      15   \n",
       "\n",
       "  YearsWithCurrManager            Attrition  \n",
       "0                 1470                 1470  \n",
       "1     4.12312925170068  0.16122448979591836  \n",
       "2   3.5681361205404363  0.36786303197196196  \n",
       "3                    0                    0  \n",
       "4                   17                    1  \n",
       "\n",
       "[5 rows x 35 columns]"
      ]
     },
     "execution_count": 189,
     "metadata": {},
     "output_type": "execute_result"
    }
   ],
   "source": [
    "df.describe().toPandas()"
   ]
  },
  {
   "cell_type": "code",
   "execution_count": 190,
   "id": "ccf8bf33-3157-485d-a167-2f069da7db9b",
   "metadata": {},
   "outputs": [],
   "source": [
    "jr = df.groupBy(\"JobRole\").count().sort(\"JobRole\", ascending=False)"
   ]
  },
  {
   "cell_type": "code",
   "execution_count": 191,
   "id": "8c2aeabe-80bd-4d08-baac-e89e18eb0925",
   "metadata": {},
   "outputs": [
    {
     "data": {
      "text/plain": [
       "<Axes: xlabel='JobRole'>"
      ]
     },
     "execution_count": 191,
     "metadata": {},
     "output_type": "execute_result"
    },
    {
     "data": {
      "image/png": "[encoded data removed]",
      "text/plain": [
       "<Figure size 1400x600 with 1 Axes>"
      ]
     },
     "metadata": {},
     "output_type": "display_data"
    }
   ],
   "source": [
    "jr.toPandas().plot.bar(x='JobRole',figsize=(14, 6),color='salmon')"
   ]
  },
  {
   "cell_type": "code",
   "execution_count": 192,
   "id": "7a4caf7c-7dfe-4875-b091-d234be4a53d4",
   "metadata": {},
   "outputs": [
    {
     "name": "stdout",
     "output_type": "stream",
     "text": [
      "+-------------+------------------+\n",
      "|MaritalStatus|avg(MonthlyIncome)|\n",
      "+-------------+------------------+\n",
      "|      Married|  6793.67161961367|\n",
      "|     Divorced| 6786.287461773701|\n",
      "|       Single| 5889.472340425532|\n",
      "+-------------+------------------+\n",
      "\n"
     ]
    }
   ],
   "source": [
    "df.groupby(\"MaritalStatus\").mean(\"MonthlyIncome\").show()"
   ]
  },
  {
   "cell_type": "code",
   "execution_count": 193,
   "id": "bec02a93-8b0c-476a-9467-906714134239",
   "metadata": {},
   "outputs": [
    {
     "name": "stdout",
     "output_type": "stream",
     "text": [
      "+---+--------------+--------------------+--------------+-------+-----------------+------+-------------+-------------+\n",
      "|Age|BusinessTravel|          Department|EducationField|JobRole|TotalWorkingYears|Gender|MaritalStatus|MonthlyIncome|\n",
      "+---+--------------+--------------------+--------------+-------+-----------------+------+-------------+-------------+\n",
      "| 52| Travel_Rarely|Research & Develo...| Life Sciences|Manager|               34|  Male|      Married|        19999|\n",
      "+---+--------------+--------------------+--------------+-------+-----------------+------+-------------+-------------+\n",
      "\n"
     ]
    }
   ],
   "source": [
    "df_view=df.createOrReplaceTempView(\"employee\")\n",
    "df_max_e=spark.sql(\"select Age,BusinessTravel,Department,EducationField,JobRole,TotalWorkingYears,Gender,MaritalStatus,MonthlyIncome from employee where MonthlyIncome in (select max(MonthlyIncome) from employee ) \")\n",
    "df_max_e.show()"
   ]
  },
  {
   "cell_type": "code",
   "execution_count": 194,
   "id": "f3cfe9f7-57ee-4579-bf33-a35d5263567e",
   "metadata": {},
   "outputs": [],
   "source": [
    "df_max_e1=spark.sql(\"select Age,EmployeeNumber,Department,EducationField,JobRole,TotalWorkingYears,YearsAtCompany,Gender,MonthlyIncome from employee where YearsAtCompany>5 \")"
   ]
  },
  {
   "cell_type": "code",
   "execution_count": 195,
   "id": "2cf76dcc-eb63-48e7-935d-990f2cdb5f81",
   "metadata": {},
   "outputs": [
    {
     "name": "stdout",
     "output_type": "stream",
     "text": [
      "+---+--------------+--------------------+----------------+--------------------+-----------------+--------------+------+-------------+\n",
      "|Age|EmployeeNumber|          Department|  EducationField|             JobRole|TotalWorkingYears|YearsAtCompany|Gender|MonthlyIncome|\n",
      "+---+--------------+--------------------+----------------+--------------------+-----------------+--------------+------+-------------+\n",
      "| 41|             1|               Sales|   Life Sciences|     Sales Executive|                8|             6|Female|         5993|\n",
      "| 49|             2|Research & Develo...|   Life Sciences|  Research Scientist|               10|            10|  Male|         5130|\n",
      "| 33|             5|Research & Develo...|   Life Sciences|  Research Scientist|                8|             8|Female|         2909|\n",
      "| 32|             8|Research & Develo...|   Life Sciences|Laboratory Techni...|                8|             7|  Male|         3068|\n",
      "| 38|            12|Research & Develo...|   Life Sciences|Manufacturing Dir...|               10|             9|  Male|         9526|\n",
      "| 36|            13|Research & Develo...|         Medical|Healthcare Repres...|               17|             7|  Male|         5237|\n",
      "| 29|            15|Research & Develo...|   Life Sciences|Laboratory Techni...|               10|             9|Female|         4193|\n",
      "| 29|            20|Research & Develo...|   Life Sciences|Manufacturing Dir...|               10|            10|Female|         9980|\n",
      "| 32|            21|Research & Develo...|   Life Sciences|  Research Scientist|                7|             6|  Male|         3298|\n",
      "| 53|            23|               Sales|   Life Sciences|             Manager|               31|            25|Female|        15427|\n",
      "| 34|            28|Research & Develo...|   Life Sciences|   Research Director|               13|            12|Female|        11994|\n",
      "| 53|            32|Research & Develo...|           Other|             Manager|               26|            14|Female|        19094|\n",
      "| 32|            33|Research & Develo...|   Life Sciences|  Research Scientist|               10|            10|Female|         3919|\n",
      "| 42|            35|               Sales|       Marketing|     Sales Executive|               10|             9|  Male|         6825|\n",
      "| 44|            36|Research & Develo...|         Medical|Healthcare Repres...|               24|            22|Female|        10248|\n",
      "| 30|            41|Research & Develo...|         Medical|Laboratory Techni...|               10|            10|  Male|         2206|\n",
      "| 27|            56|               Sales|   Life Sciences|     Sales Executive|                9|             9|  Male|         8726|\n",
      "| 30|            57|Research & Develo...|         Medical|Laboratory Techni...|               12|            12|Female|         4011|\n",
      "| 41|            58|Research & Develo...|Technical Degree|   Research Director|               23|            22|Female|        19545|\n",
      "| 34|            60|               Sales|       Marketing|     Sales Executive|               10|             9|  Male|         4568|\n",
      "+---+--------------+--------------------+----------------+--------------------+-----------------+--------------+------+-------------+\n",
      "only showing top 20 rows\n",
      "\n"
     ]
    }
   ],
   "source": [
    "df_max_e1.show()"
   ]
  },
  {
   "cell_type": "code",
   "execution_count": 196,
   "id": "a5ab2214-6bd1-4567-b037-9d7ddbe441e1",
   "metadata": {},
   "outputs": [
    {
     "name": "stdout",
     "output_type": "stream",
     "text": [
      "+---+--------------+--------------------+----------------+--------------------+------------------+--------------+------+-------------+\n",
      "|Age|EmployeeNumber|          Department|  EducationField|             JobRole|YearsInCurrentRole|YearsAtCompany|Gender|MonthlyIncome|\n",
      "+---+--------------+--------------------+----------------+--------------------+------------------+--------------+------+-------------+\n",
      "| 55|           106|               Sales|   Life Sciences|     Sales Executive|                 0|             1|  Male|        10239|\n",
      "| 56|           112|Research & Develo...|   Life Sciences|Manufacturing Dir...|                 4|             6|  Male|         7260|\n",
      "| 51|           116|Research & Develo...|   Life Sciences|Laboratory Techni...|                 2|             4|  Male|         2075|\n",
      "| 51|           120|               Sales|       Marketing|     Sales Executive|                 7|            10|  Male|         5441|\n",
      "| 58|           131|               Sales|         Medical|     Sales Executive|                10|            37|  Male|        13872|\n",
      "| 51|           162|Research & Develo...|   Life Sciences|   Research Director|                18|            20|  Male|        19537|\n",
      "| 51|           179|Research & Develo...|   Life Sciences|Manufacturing Dir...|                 2|             4|  Male|        10650|\n",
      "| 53|           205|               Sales|       Marketing|Sales Representative|                 7|             7|  Male|         2306|\n",
      "| 51|           211|Research & Develo...|         Medical|Manufacturing Dir...|                 0|             1|  Male|         6132|\n",
      "| 57|           223|Research & Develo...|   Life Sciences|Healthcare Repres...|                 3|             5|  Male|         9439|\n",
      "| 55|           254|Research & Develo...|         Medical|   Research Director|                15|            24|  Male|        18722|\n",
      "| 52|           259|Research & Develo...|   Life Sciences|             Manager|                18|            33|  Male|        19999|\n",
      "| 51|           296|Research & Develo...|   Life Sciences|   Research Director|                 9|            10|  Male|        12490|\n",
      "| 59|           309|Research & Develo...|   Life Sciences|  Research Scientist|                 0|             1|  Male|         2177|\n",
      "| 59|           321|     Human Resources|         Medical|     Human Resources|                 2|             2|  Male|         2267|\n",
      "| 52|           329|               Sales|   Life Sciences|             Manager|                 7|            33|  Male|        19068|\n",
      "| 51|           353|Research & Develo...|   Life Sciences|  Research Scientist|                 0|             1|  Male|         2723|\n",
      "| 55|           374|Research & Develo...|         Medical|             Manager|                10|            36|  Male|        19045|\n",
      "| 53|           386|Research & Develo...|         Medical|   Research Director|                 3|             5|  Male|        17584|\n",
      "| 55|           389|Research & Develo...|Technical Degree|Laboratory Techni...|                 7|            10|  Male|         5415|\n",
      "+---+--------------+--------------------+----------------+--------------------+------------------+--------------+------+-------------+\n",
      "only showing top 20 rows\n",
      "\n"
     ]
    }
   ],
   "source": [
    "df_new=spark.sql(\"SELECT  Age,EmployeeNumber,Department,EducationField,JobRole,YearsInCurrentRole,YearsAtCompany,Gender,MonthlyIncome FROM employee where Gender='Male' and age > 50\")\n",
    "df_new.show()"
   ]
  },
  {
   "cell_type": "code",
   "execution_count": 197,
   "id": "3ceb5269-1fe4-41a8-83fd-d228b4bdf187",
   "metadata": {},
   "outputs": [
    {
     "name": "stdout",
     "output_type": "stream",
     "text": [
      "+------------------+\n",
      "|avg(MonthlyIncome)|\n",
      "+------------------+\n",
      "|5156.4473684210525|\n",
      "+------------------+\n",
      "\n"
     ]
    }
   ],
   "source": [
    "df_new=spark.sql(\"select avg(MonthlyIncome) from employee where age between 20 and 40\")\n",
    "df_new.show()"
   ]
  },
  {
   "cell_type": "code",
   "execution_count": 198,
   "id": "6a75ee8c-53db-4072-b2f9-ef6fbdba4a13",
   "metadata": {},
   "outputs": [
    {
     "name": "stdout",
     "output_type": "stream",
     "text": [
      "+---+--------------+--------------------+--------------+--------------------+-----------------+------+-------------+-------------+\n",
      "|Age|BusinessTravel|          Department|EducationField|             JobRole|TotalWorkingYears|Gender|MaritalStatus|MonthlyIncome|\n",
      "+---+--------------+--------------------+--------------+--------------------+-----------------+------+-------------+-------------+\n",
      "| 58| Travel_Rarely|Research & Develo...|       Medical|Healthcare Repres...|               40|Female|      Married|        10312|\n",
      "+---+--------------+--------------------+--------------+--------------------+-----------------+------+-------------+-------------+\n",
      "\n"
     ]
    }
   ],
   "source": [
    "df_new=spark.sql(\"Select Age,BusinessTravel,Department,EducationField,JobRole,TotalWorkingYears,Gender,MaritalStatus,MonthlyIncome from employee where YearsAtCompany in (select max(YearsAtCompany) from employee)\")\n",
    "df_new.show()"
   ]
  },
  {
   "cell_type": "code",
   "execution_count": 199,
   "id": "0e2bd867-9789-4dbe-8d87-475c2a49f163",
   "metadata": {},
   "outputs": [
    {
     "name": "stdout",
     "output_type": "stream",
     "text": [
      "Distinct count: 1470\n"
     ]
    },
    {
     "data": {
      "text/html": [
       "<div>\n",
       "<style scoped>\n",
       "    .dataframe tbody tr th:only-of-type {\n",
       "        vertical-align: middle;\n",
       "    }\n",
       "\n",
       "    .dataframe tbody tr th {\n",
       "        vertical-align: top;\n",
       "    }\n",
       "\n",
       "    .dataframe thead th {\n",
       "        text-align: right;\n",
       "    }\n",
       "</style>\n",
       "<table border=\"1\" class=\"dataframe\">\n",
       "  <thead>\n",
       "    <tr style=\"text-align: right;\">\n",
       "      <th></th>\n",
       "      <th>Age</th>\n",
       "      <th>BusinessTravel</th>\n",
       "      <th>DailyRate</th>\n",
       "      <th>Department</th>\n",
       "      <th>DistanceFromHome</th>\n",
       "      <th>Education</th>\n",
       "      <th>EducationField</th>\n",
       "      <th>EmployeeCount</th>\n",
       "      <th>EmployeeNumber</th>\n",
       "      <th>EnvironmentSatisfaction</th>\n",
       "      <th>...</th>\n",
       "      <th>StandardHours</th>\n",
       "      <th>StockOptionLevel</th>\n",
       "      <th>TotalWorkingYears</th>\n",
       "      <th>TrainingTimesLastYear</th>\n",
       "      <th>WorkLifeBalance</th>\n",
       "      <th>YearsAtCompany</th>\n",
       "      <th>YearsInCurrentRole</th>\n",
       "      <th>YearsSinceLastPromotion</th>\n",
       "      <th>YearsWithCurrManager</th>\n",
       "      <th>Attrition</th>\n",
       "    </tr>\n",
       "  </thead>\n",
       "  <tbody>\n",
       "    <tr>\n",
       "      <th>0</th>\n",
       "      <td>30</td>\n",
       "      <td>Travel_Frequently</td>\n",
       "      <td>721</td>\n",
       "      <td>Research &amp; Development</td>\n",
       "      <td>1</td>\n",
       "      <td>2</td>\n",
       "      <td>Medical</td>\n",
       "      <td>1</td>\n",
       "      <td>57</td>\n",
       "      <td>3</td>\n",
       "      <td>...</td>\n",
       "      <td>80</td>\n",
       "      <td>0</td>\n",
       "      <td>12</td>\n",
       "      <td>2</td>\n",
       "      <td>3</td>\n",
       "      <td>12</td>\n",
       "      <td>8</td>\n",
       "      <td>3</td>\n",
       "      <td>7</td>\n",
       "      <td>0</td>\n",
       "    </tr>\n",
       "    <tr>\n",
       "      <th>1</th>\n",
       "      <td>30</td>\n",
       "      <td>0n-Travel</td>\n",
       "      <td>829</td>\n",
       "      <td>Research &amp; Development</td>\n",
       "      <td>1</td>\n",
       "      <td>1</td>\n",
       "      <td>Life Sciences</td>\n",
       "      <td>1</td>\n",
       "      <td>292</td>\n",
       "      <td>3</td>\n",
       "      <td>...</td>\n",
       "      <td>80</td>\n",
       "      <td>0</td>\n",
       "      <td>12</td>\n",
       "      <td>2</td>\n",
       "      <td>3</td>\n",
       "      <td>11</td>\n",
       "      <td>8</td>\n",
       "      <td>5</td>\n",
       "      <td>8</td>\n",
       "      <td>0</td>\n",
       "    </tr>\n",
       "    <tr>\n",
       "      <th>2</th>\n",
       "      <td>32</td>\n",
       "      <td>Travel_Rarely</td>\n",
       "      <td>1018</td>\n",
       "      <td>Research &amp; Development</td>\n",
       "      <td>2</td>\n",
       "      <td>4</td>\n",
       "      <td>Medical</td>\n",
       "      <td>1</td>\n",
       "      <td>439</td>\n",
       "      <td>1</td>\n",
       "      <td>...</td>\n",
       "      <td>80</td>\n",
       "      <td>0</td>\n",
       "      <td>10</td>\n",
       "      <td>0</td>\n",
       "      <td>2</td>\n",
       "      <td>7</td>\n",
       "      <td>7</td>\n",
       "      <td>0</td>\n",
       "      <td>7</td>\n",
       "      <td>0</td>\n",
       "    </tr>\n",
       "    <tr>\n",
       "      <th>3</th>\n",
       "      <td>36</td>\n",
       "      <td>Travel_Rarely</td>\n",
       "      <td>429</td>\n",
       "      <td>Research &amp; Development</td>\n",
       "      <td>2</td>\n",
       "      <td>4</td>\n",
       "      <td>Life Sciences</td>\n",
       "      <td>1</td>\n",
       "      <td>1294</td>\n",
       "      <td>3</td>\n",
       "      <td>...</td>\n",
       "      <td>80</td>\n",
       "      <td>0</td>\n",
       "      <td>18</td>\n",
       "      <td>2</td>\n",
       "      <td>3</td>\n",
       "      <td>16</td>\n",
       "      <td>14</td>\n",
       "      <td>5</td>\n",
       "      <td>12</td>\n",
       "      <td>0</td>\n",
       "    </tr>\n",
       "    <tr>\n",
       "      <th>4</th>\n",
       "      <td>44</td>\n",
       "      <td>Travel_Frequently</td>\n",
       "      <td>602</td>\n",
       "      <td>Human Resources</td>\n",
       "      <td>1</td>\n",
       "      <td>5</td>\n",
       "      <td>Human Resources</td>\n",
       "      <td>1</td>\n",
       "      <td>1642</td>\n",
       "      <td>1</td>\n",
       "      <td>...</td>\n",
       "      <td>80</td>\n",
       "      <td>0</td>\n",
       "      <td>14</td>\n",
       "      <td>3</td>\n",
       "      <td>3</td>\n",
       "      <td>10</td>\n",
       "      <td>7</td>\n",
       "      <td>0</td>\n",
       "      <td>2</td>\n",
       "      <td>0</td>\n",
       "    </tr>\n",
       "    <tr>\n",
       "      <th>...</th>\n",
       "      <td>...</td>\n",
       "      <td>...</td>\n",
       "      <td>...</td>\n",
       "      <td>...</td>\n",
       "      <td>...</td>\n",
       "      <td>...</td>\n",
       "      <td>...</td>\n",
       "      <td>...</td>\n",
       "      <td>...</td>\n",
       "      <td>...</td>\n",
       "      <td>...</td>\n",
       "      <td>...</td>\n",
       "      <td>...</td>\n",
       "      <td>...</td>\n",
       "      <td>...</td>\n",
       "      <td>...</td>\n",
       "      <td>...</td>\n",
       "      <td>...</td>\n",
       "      <td>...</td>\n",
       "      <td>...</td>\n",
       "      <td>...</td>\n",
       "    </tr>\n",
       "    <tr>\n",
       "      <th>1465</th>\n",
       "      <td>56</td>\n",
       "      <td>Travel_Rarely</td>\n",
       "      <td>832</td>\n",
       "      <td>Research &amp; Development</td>\n",
       "      <td>9</td>\n",
       "      <td>3</td>\n",
       "      <td>Medical</td>\n",
       "      <td>1</td>\n",
       "      <td>762</td>\n",
       "      <td>3</td>\n",
       "      <td>...</td>\n",
       "      <td>80</td>\n",
       "      <td>0</td>\n",
       "      <td>30</td>\n",
       "      <td>1</td>\n",
       "      <td>2</td>\n",
       "      <td>10</td>\n",
       "      <td>7</td>\n",
       "      <td>1</td>\n",
       "      <td>1</td>\n",
       "      <td>0</td>\n",
       "    </tr>\n",
       "    <tr>\n",
       "      <th>1466</th>\n",
       "      <td>36</td>\n",
       "      <td>Travel_Rarely</td>\n",
       "      <td>1425</td>\n",
       "      <td>Research &amp; Development</td>\n",
       "      <td>14</td>\n",
       "      <td>1</td>\n",
       "      <td>Life Sciences</td>\n",
       "      <td>1</td>\n",
       "      <td>924</td>\n",
       "      <td>3</td>\n",
       "      <td>...</td>\n",
       "      <td>80</td>\n",
       "      <td>1</td>\n",
       "      <td>17</td>\n",
       "      <td>2</td>\n",
       "      <td>2</td>\n",
       "      <td>16</td>\n",
       "      <td>8</td>\n",
       "      <td>4</td>\n",
       "      <td>11</td>\n",
       "      <td>0</td>\n",
       "    </tr>\n",
       "    <tr>\n",
       "      <th>1467</th>\n",
       "      <td>30</td>\n",
       "      <td>Travel_Rarely</td>\n",
       "      <td>153</td>\n",
       "      <td>Research &amp; Development</td>\n",
       "      <td>8</td>\n",
       "      <td>2</td>\n",
       "      <td>Life Sciences</td>\n",
       "      <td>1</td>\n",
       "      <td>1015</td>\n",
       "      <td>2</td>\n",
       "      <td>...</td>\n",
       "      <td>80</td>\n",
       "      <td>3</td>\n",
       "      <td>9</td>\n",
       "      <td>4</td>\n",
       "      <td>2</td>\n",
       "      <td>8</td>\n",
       "      <td>7</td>\n",
       "      <td>1</td>\n",
       "      <td>7</td>\n",
       "      <td>0</td>\n",
       "    </tr>\n",
       "    <tr>\n",
       "      <th>1468</th>\n",
       "      <td>37</td>\n",
       "      <td>Travel_Rarely</td>\n",
       "      <td>1141</td>\n",
       "      <td>Research &amp; Development</td>\n",
       "      <td>11</td>\n",
       "      <td>2</td>\n",
       "      <td>Medical</td>\n",
       "      <td>1</td>\n",
       "      <td>1033</td>\n",
       "      <td>1</td>\n",
       "      <td>...</td>\n",
       "      <td>80</td>\n",
       "      <td>0</td>\n",
       "      <td>15</td>\n",
       "      <td>2</td>\n",
       "      <td>1</td>\n",
       "      <td>1</td>\n",
       "      <td>0</td>\n",
       "      <td>0</td>\n",
       "      <td>0</td>\n",
       "      <td>1</td>\n",
       "    </tr>\n",
       "    <tr>\n",
       "      <th>1469</th>\n",
       "      <td>32</td>\n",
       "      <td>Travel_Rarely</td>\n",
       "      <td>1259</td>\n",
       "      <td>Research &amp; Development</td>\n",
       "      <td>2</td>\n",
       "      <td>4</td>\n",
       "      <td>Life Sciences</td>\n",
       "      <td>1</td>\n",
       "      <td>1692</td>\n",
       "      <td>4</td>\n",
       "      <td>...</td>\n",
       "      <td>80</td>\n",
       "      <td>0</td>\n",
       "      <td>1</td>\n",
       "      <td>2</td>\n",
       "      <td>3</td>\n",
       "      <td>1</td>\n",
       "      <td>0</td>\n",
       "      <td>0</td>\n",
       "      <td>0</td>\n",
       "      <td>1</td>\n",
       "    </tr>\n",
       "  </tbody>\n",
       "</table>\n",
       "<p>1470 rows × 34 columns</p>\n",
       "</div>"
      ],
      "text/plain": [
       "      Age     BusinessTravel  DailyRate              Department  \\\n",
       "0      30  Travel_Frequently        721  Research & Development   \n",
       "1      30          0n-Travel        829  Research & Development   \n",
       "2      32      Travel_Rarely       1018  Research & Development   \n",
       "3      36      Travel_Rarely        429  Research & Development   \n",
       "4      44  Travel_Frequently        602         Human Resources   \n",
       "...   ...                ...        ...                     ...   \n",
       "1465   56      Travel_Rarely        832  Research & Development   \n",
       "1466   36      Travel_Rarely       1425  Research & Development   \n",
       "1467   30      Travel_Rarely        153  Research & Development   \n",
       "1468   37      Travel_Rarely       1141  Research & Development   \n",
       "1469   32      Travel_Rarely       1259  Research & Development   \n",
       "\n",
       "      DistanceFromHome  Education   EducationField  EmployeeCount  \\\n",
       "0                    1          2          Medical              1   \n",
       "1                    1          1    Life Sciences              1   \n",
       "2                    2          4          Medical              1   \n",
       "3                    2          4    Life Sciences              1   \n",
       "4                    1          5  Human Resources              1   \n",
       "...                ...        ...              ...            ...   \n",
       "1465                 9          3          Medical              1   \n",
       "1466                14          1    Life Sciences              1   \n",
       "1467                 8          2    Life Sciences              1   \n",
       "1468                11          2          Medical              1   \n",
       "1469                 2          4    Life Sciences              1   \n",
       "\n",
       "      EmployeeNumber  EnvironmentSatisfaction  ... StandardHours  \\\n",
       "0                 57                        3  ...            80   \n",
       "1                292                        3  ...            80   \n",
       "2                439                        1  ...            80   \n",
       "3               1294                        3  ...            80   \n",
       "4               1642                        1  ...            80   \n",
       "...              ...                      ...  ...           ...   \n",
       "1465             762                        3  ...            80   \n",
       "1466             924                        3  ...            80   \n",
       "1467            1015                        2  ...            80   \n",
       "1468            1033                        1  ...            80   \n",
       "1469            1692                        4  ...            80   \n",
       "\n",
       "      StockOptionLevel  TotalWorkingYears  TrainingTimesLastYear  \\\n",
       "0                    0                 12                      2   \n",
       "1                    0                 12                      2   \n",
       "2                    0                 10                      0   \n",
       "3                    0                 18                      2   \n",
       "4                    0                 14                      3   \n",
       "...                ...                ...                    ...   \n",
       "1465                 0                 30                      1   \n",
       "1466                 1                 17                      2   \n",
       "1467                 3                  9                      4   \n",
       "1468                 0                 15                      2   \n",
       "1469                 0                  1                      2   \n",
       "\n",
       "     WorkLifeBalance  YearsAtCompany YearsInCurrentRole  \\\n",
       "0                  3              12                  8   \n",
       "1                  3              11                  8   \n",
       "2                  2               7                  7   \n",
       "3                  3              16                 14   \n",
       "4                  3              10                  7   \n",
       "...              ...             ...                ...   \n",
       "1465               2              10                  7   \n",
       "1466               2              16                  8   \n",
       "1467               2               8                  7   \n",
       "1468               1               1                  0   \n",
       "1469               3               1                  0   \n",
       "\n",
       "      YearsSinceLastPromotion  YearsWithCurrManager  Attrition  \n",
       "0                           3                     7          0  \n",
       "1                           5                     8          0  \n",
       "2                           0                     7          0  \n",
       "3                           5                    12          0  \n",
       "4                           0                     2          0  \n",
       "...                       ...                   ...        ...  \n",
       "1465                        1                     1          0  \n",
       "1466                        4                    11          0  \n",
       "1467                        1                     7          0  \n",
       "1468                        0                     0          1  \n",
       "1469                        0                     0          1  \n",
       "\n",
       "[1470 rows x 34 columns]"
      ]
     },
     "execution_count": 199,
     "metadata": {},
     "output_type": "execute_result"
    }
   ],
   "source": [
    "distinctdf = df.distinct()\n",
    "print(\"Distinct count: \"+str(distinctdf.count()))\n",
    "distinctdf.toPandas()"
   ]
  },
  {
   "cell_type": "code",
   "execution_count": 200,
   "id": "fcd02ca3-7b7c-4626-a03f-ab4a1aaa3e6c",
   "metadata": {},
   "outputs": [
    {
     "data": {
      "text/html": [
       "<div>\n",
       "<style scoped>\n",
       "    .dataframe tbody tr th:only-of-type {\n",
       "        vertical-align: middle;\n",
       "    }\n",
       "\n",
       "    .dataframe tbody tr th {\n",
       "        vertical-align: top;\n",
       "    }\n",
       "\n",
       "    .dataframe thead th {\n",
       "        text-align: right;\n",
       "    }\n",
       "</style>\n",
       "<table border=\"1\" class=\"dataframe\">\n",
       "  <thead>\n",
       "    <tr style=\"text-align: right;\">\n",
       "      <th></th>\n",
       "      <th>Age</th>\n",
       "      <th>BusinessTravel</th>\n",
       "      <th>DailyRate</th>\n",
       "      <th>Department</th>\n",
       "      <th>DistanceFromHome</th>\n",
       "      <th>Education</th>\n",
       "      <th>EducationField</th>\n",
       "      <th>EmployeeCount</th>\n",
       "      <th>EmployeeNumber</th>\n",
       "      <th>EnvironmentSatisfaction</th>\n",
       "      <th>...</th>\n",
       "      <th>StandardHours</th>\n",
       "      <th>StockOptionLevel</th>\n",
       "      <th>TotalWorkingYears</th>\n",
       "      <th>TrainingTimesLastYear</th>\n",
       "      <th>WorkLifeBalance</th>\n",
       "      <th>YearsAtCompany</th>\n",
       "      <th>YearsInCurrentRole</th>\n",
       "      <th>YearsSinceLastPromotion</th>\n",
       "      <th>YearsWithCurrManager</th>\n",
       "      <th>Attrition</th>\n",
       "    </tr>\n",
       "  </thead>\n",
       "  <tbody>\n",
       "    <tr>\n",
       "      <th>0</th>\n",
       "      <td>18</td>\n",
       "      <td>0n-Travel</td>\n",
       "      <td>247</td>\n",
       "      <td>Research &amp; Development</td>\n",
       "      <td>8</td>\n",
       "      <td>1</td>\n",
       "      <td>Medical</td>\n",
       "      <td>1</td>\n",
       "      <td>1156</td>\n",
       "      <td>3</td>\n",
       "      <td>...</td>\n",
       "      <td>80</td>\n",
       "      <td>0</td>\n",
       "      <td>0</td>\n",
       "      <td>0</td>\n",
       "      <td>3</td>\n",
       "      <td>0</td>\n",
       "      <td>0</td>\n",
       "      <td>0</td>\n",
       "      <td>0</td>\n",
       "      <td>1</td>\n",
       "    </tr>\n",
       "    <tr>\n",
       "      <th>1</th>\n",
       "      <td>18</td>\n",
       "      <td>Travel_Frequently</td>\n",
       "      <td>1306</td>\n",
       "      <td>Sales</td>\n",
       "      <td>5</td>\n",
       "      <td>3</td>\n",
       "      <td>Marketing</td>\n",
       "      <td>1</td>\n",
       "      <td>614</td>\n",
       "      <td>2</td>\n",
       "      <td>...</td>\n",
       "      <td>80</td>\n",
       "      <td>0</td>\n",
       "      <td>0</td>\n",
       "      <td>3</td>\n",
       "      <td>3</td>\n",
       "      <td>0</td>\n",
       "      <td>0</td>\n",
       "      <td>0</td>\n",
       "      <td>0</td>\n",
       "      <td>1</td>\n",
       "    </tr>\n",
       "    <tr>\n",
       "      <th>2</th>\n",
       "      <td>18</td>\n",
       "      <td>0n-Travel</td>\n",
       "      <td>1124</td>\n",
       "      <td>Research &amp; Development</td>\n",
       "      <td>1</td>\n",
       "      <td>3</td>\n",
       "      <td>Life Sciences</td>\n",
       "      <td>1</td>\n",
       "      <td>1368</td>\n",
       "      <td>4</td>\n",
       "      <td>...</td>\n",
       "      <td>80</td>\n",
       "      <td>0</td>\n",
       "      <td>0</td>\n",
       "      <td>5</td>\n",
       "      <td>4</td>\n",
       "      <td>0</td>\n",
       "      <td>0</td>\n",
       "      <td>0</td>\n",
       "      <td>0</td>\n",
       "      <td>0</td>\n",
       "    </tr>\n",
       "    <tr>\n",
       "      <th>3</th>\n",
       "      <td>18</td>\n",
       "      <td>Travel_Frequently</td>\n",
       "      <td>544</td>\n",
       "      <td>Sales</td>\n",
       "      <td>3</td>\n",
       "      <td>2</td>\n",
       "      <td>Medical</td>\n",
       "      <td>1</td>\n",
       "      <td>1624</td>\n",
       "      <td>2</td>\n",
       "      <td>...</td>\n",
       "      <td>80</td>\n",
       "      <td>0</td>\n",
       "      <td>0</td>\n",
       "      <td>2</td>\n",
       "      <td>4</td>\n",
       "      <td>0</td>\n",
       "      <td>0</td>\n",
       "      <td>0</td>\n",
       "      <td>0</td>\n",
       "      <td>1</td>\n",
       "    </tr>\n",
       "    <tr>\n",
       "      <th>4</th>\n",
       "      <td>18</td>\n",
       "      <td>0n-Travel</td>\n",
       "      <td>1431</td>\n",
       "      <td>Research &amp; Development</td>\n",
       "      <td>14</td>\n",
       "      <td>3</td>\n",
       "      <td>Medical</td>\n",
       "      <td>1</td>\n",
       "      <td>1839</td>\n",
       "      <td>2</td>\n",
       "      <td>...</td>\n",
       "      <td>80</td>\n",
       "      <td>0</td>\n",
       "      <td>0</td>\n",
       "      <td>4</td>\n",
       "      <td>1</td>\n",
       "      <td>0</td>\n",
       "      <td>0</td>\n",
       "      <td>0</td>\n",
       "      <td>0</td>\n",
       "      <td>0</td>\n",
       "    </tr>\n",
       "  </tbody>\n",
       "</table>\n",
       "<p>5 rows × 34 columns</p>\n",
       "</div>"
      ],
      "text/plain": [
       "   Age     BusinessTravel  DailyRate              Department  \\\n",
       "0   18          0n-Travel        247  Research & Development   \n",
       "1   18  Travel_Frequently       1306                   Sales   \n",
       "2   18          0n-Travel       1124  Research & Development   \n",
       "3   18  Travel_Frequently        544                   Sales   \n",
       "4   18          0n-Travel       1431  Research & Development   \n",
       "\n",
       "   DistanceFromHome  Education EducationField  EmployeeCount  EmployeeNumber  \\\n",
       "0                 8          1        Medical              1            1156   \n",
       "1                 5          3      Marketing              1             614   \n",
       "2                 1          3  Life Sciences              1            1368   \n",
       "3                 3          2        Medical              1            1624   \n",
       "4                14          3        Medical              1            1839   \n",
       "\n",
       "   EnvironmentSatisfaction  ... StandardHours  StockOptionLevel  \\\n",
       "0                        3  ...            80                 0   \n",
       "1                        2  ...            80                 0   \n",
       "2                        4  ...            80                 0   \n",
       "3                        2  ...            80                 0   \n",
       "4                        2  ...            80                 0   \n",
       "\n",
       "   TotalWorkingYears  TrainingTimesLastYear WorkLifeBalance  YearsAtCompany  \\\n",
       "0                  0                      0               3               0   \n",
       "1                  0                      3               3               0   \n",
       "2                  0                      5               4               0   \n",
       "3                  0                      2               4               0   \n",
       "4                  0                      4               1               0   \n",
       "\n",
       "  YearsInCurrentRole  YearsSinceLastPromotion  YearsWithCurrManager  Attrition  \n",
       "0                  0                        0                     0          1  \n",
       "1                  0                        0                     0          1  \n",
       "2                  0                        0                     0          0  \n",
       "3                  0                        0                     0          1  \n",
       "4                  0                        0                     0          0  \n",
       "\n",
       "[5 rows x 34 columns]"
      ]
     },
     "execution_count": 200,
     "metadata": {},
     "output_type": "execute_result"
    }
   ],
   "source": [
    "((df.orderBy(df.Age.asc(),df.MonthlyIncome.desc())).toPandas()).head()"
   ]
  },
  {
   "cell_type": "code",
   "execution_count": 201,
   "id": "942a1add-140a-40d7-9721-8958e5bed138",
   "metadata": {},
   "outputs": [
    {
     "name": "stdout",
     "output_type": "stream",
     "text": [
      "root\n",
      " |-- Age: integer (nullable = true)\n",
      " |-- BusinessTravel: string (nullable = true)\n",
      " |-- DailyRate: integer (nullable = true)\n",
      " |-- Department: string (nullable = true)\n",
      " |-- DistanceFromHome: integer (nullable = true)\n",
      " |-- Education: integer (nullable = true)\n",
      " |-- EducationField: string (nullable = true)\n",
      " |-- EmployeeCount: integer (nullable = true)\n",
      " |-- EmployeeNumber: integer (nullable = true)\n",
      " |-- EnvironmentSatisfaction: integer (nullable = true)\n",
      " |-- Gender: string (nullable = true)\n",
      " |-- HourlyRate: integer (nullable = true)\n",
      " |-- JobInvolvement: integer (nullable = true)\n",
      " |-- JobLevel: integer (nullable = true)\n",
      " |-- JobRole: string (nullable = true)\n",
      " |-- JobSatisfaction: integer (nullable = true)\n",
      " |-- MaritalStatus: string (nullable = true)\n",
      " |-- MonthlyIncome: integer (nullable = true)\n",
      " |-- MonthlyRate: integer (nullable = true)\n",
      " |-- NumCompaniesWorked: integer (nullable = true)\n",
      " |-- OverTime: integer (nullable = true)\n",
      " |-- PercentSalaryHike: integer (nullable = true)\n",
      " |-- PerformanceRating: integer (nullable = true)\n",
      " |-- RelationshipSatisfaction: integer (nullable = true)\n",
      " |-- StandardHours: integer (nullable = true)\n",
      " |-- StockOptionLevel: integer (nullable = true)\n",
      " |-- TotalWorkingYears: integer (nullable = true)\n",
      " |-- TrainingTimesLastYear: integer (nullable = true)\n",
      " |-- WorkLifeBalance: integer (nullable = true)\n",
      " |-- YearsAtCompany: integer (nullable = true)\n",
      " |-- YearsInCurrentRole: integer (nullable = true)\n",
      " |-- YearsSinceLastPromotion: integer (nullable = true)\n",
      " |-- YearsWithCurrManager: integer (nullable = true)\n",
      " |-- Attrition: integer (nullable = true)\n",
      "\n"
     ]
    }
   ],
   "source": [
    "df.printSchema()"
   ]
  },
  {
   "cell_type": "code",
   "execution_count": 202,
   "id": "784f7ec1-7154-4af4-ae76-f62b558eeada",
   "metadata": {},
   "outputs": [],
   "source": [
    "df_f=df"
   ]
  },
  {
   "cell_type": "code",
   "execution_count": 203,
   "id": "575419a3-5279-48f6-a8e6-83e697291b9c",
   "metadata": {},
   "outputs": [
    {
     "name": "stdout",
     "output_type": "stream",
     "text": [
      "root\n",
      " |-- Age: integer (nullable = true)\n",
      " |-- BusinessTravel: string (nullable = true)\n",
      " |-- DailyRate: integer (nullable = true)\n",
      " |-- Department: string (nullable = true)\n",
      " |-- DistanceFromHome: integer (nullable = true)\n",
      " |-- Education: integer (nullable = true)\n",
      " |-- EducationField: string (nullable = true)\n",
      " |-- EmployeeCount: integer (nullable = true)\n",
      " |-- EmployeeNumber: integer (nullable = true)\n",
      " |-- EnvironmentSatisfaction: integer (nullable = true)\n",
      " |-- Gender: string (nullable = true)\n",
      " |-- HourlyRate: integer (nullable = true)\n",
      " |-- JobInvolvement: integer (nullable = true)\n",
      " |-- JobLevel: integer (nullable = true)\n",
      " |-- JobRole: string (nullable = true)\n",
      " |-- JobSatisfaction: integer (nullable = true)\n",
      " |-- MaritalStatus: string (nullable = true)\n",
      " |-- MonthlyIncome: integer (nullable = true)\n",
      " |-- MonthlyRate: integer (nullable = true)\n",
      " |-- NumCompaniesWorked: integer (nullable = true)\n",
      " |-- OverTime: integer (nullable = true)\n",
      " |-- PercentSalaryHike: integer (nullable = true)\n",
      " |-- PerformanceRating: integer (nullable = true)\n",
      " |-- RelationshipSatisfaction: integer (nullable = true)\n",
      " |-- StandardHours: integer (nullable = true)\n",
      " |-- StockOptionLevel: integer (nullable = true)\n",
      " |-- TotalWorkingYears: integer (nullable = true)\n",
      " |-- TrainingTimesLastYear: integer (nullable = true)\n",
      " |-- WorkLifeBalance: integer (nullable = true)\n",
      " |-- YearsAtCompany: integer (nullable = true)\n",
      " |-- YearsInCurrentRole: integer (nullable = true)\n",
      " |-- YearsSinceLastPromotion: integer (nullable = true)\n",
      " |-- YearsWithCurrManager: integer (nullable = true)\n",
      " |-- Attrition: integer (nullable = true)\n",
      "\n"
     ]
    }
   ],
   "source": [
    "df_f.printSchema()"
   ]
  },
  {
   "cell_type": "code",
   "execution_count": 204,
   "id": "fe16b7aa-48f9-4a8b-8404-018d9b746cd5",
   "metadata": {},
   "outputs": [
    {
     "name": "stdout",
     "output_type": "stream",
     "text": [
      "+---+-----------------+---------+--------------------+----------------+---------+--------------+-------------+--------------+-----------------------+------+----------+--------------+--------+--------------------+---------------+-------------+-------------+-----------+------------------+--------+-----------------+-----------------+------------------------+-------------+----------------+-----------------+---------------------+---------------+--------------+------------------+-----------------------+--------------------+---------+--------------------+\n",
      "|Age|   BusinessTravel|DailyRate|          Department|DistanceFromHome|Education|EducationField|EmployeeCount|EmployeeNumber|EnvironmentSatisfaction|Gender|HourlyRate|JobInvolvement|JobLevel|             JobRole|JobSatisfaction|MaritalStatus|MonthlyIncome|MonthlyRate|NumCompaniesWorked|OverTime|PercentSalaryHike|PerformanceRating|RelationshipSatisfaction|StandardHours|StockOptionLevel|TotalWorkingYears|TrainingTimesLastYear|WorkLifeBalance|YearsAtCompany|YearsInCurrentRole|YearsSinceLastPromotion|YearsWithCurrManager|Attrition|            features|\n",
      "+---+-----------------+---------+--------------------+----------------+---------+--------------+-------------+--------------+-----------------------+------+----------+--------------+--------+--------------------+---------------+-------------+-------------+-----------+------------------+--------+-----------------+-----------------+------------------------+-------------+----------------+-----------------+---------------------+---------------+--------------+------------------+-----------------------+--------------------+---------+--------------------+\n",
      "| 41|    Travel_Rarely|     1102|               Sales|               1|        2| Life Sciences|            1|             1|                      2|Female|        94|             3|       2|     Sales Executive|              4|       Single|         5993|      19479|                 8|       1|               11|                3|                       1|           80|               0|                8|                    0|              1|             6|                 4|                      0|                   5|        1|[41.0,1102.0,1.0,...|\n",
      "| 49|Travel_Frequently|      279|Research & Develo...|               8|        1| Life Sciences|            1|             2|                      3|  Male|        61|             2|       2|  Research Scientist|              2|      Married|         5130|      24907|                 1|       0|               23|                4|                       4|           80|               1|               10|                    3|              3|            10|                 7|                      1|                   7|        0|[49.0,279.0,8.0,1...|\n",
      "| 37|    Travel_Rarely|     1373|Research & Develo...|               2|        2|         Other|            1|             4|                      4|  Male|        92|             2|       1|Laboratory Techni...|              3|       Single|         2090|       2396|                 6|       1|               15|                3|                       2|           80|               0|                7|                    3|              3|             0|                 0|                      0|                   0|        1|[37.0,1373.0,2.0,...|\n",
      "| 33|Travel_Frequently|     1392|Research & Develo...|               3|        4| Life Sciences|            1|             5|                      4|Female|        56|             3|       1|  Research Scientist|              3|      Married|         2909|      23159|                 1|       1|               11|                3|                       3|           80|               0|                8|                    3|              3|             8|                 7|                      3|                   0|        0|[33.0,1392.0,3.0,...|\n",
      "| 27|    Travel_Rarely|      591|Research & Develo...|               2|        1|       Medical|            1|             7|                      1|  Male|        40|             3|       1|Laboratory Techni...|              2|      Married|         3468|      16632|                 9|       0|               12|                3|                       4|           80|               1|                6|                    3|              3|             2|                 2|                      2|                   2|        0|[27.0,591.0,2.0,1...|\n",
      "| 32|Travel_Frequently|     1005|Research & Develo...|               2|        2| Life Sciences|            1|             8|                      4|  Male|        79|             3|       1|Laboratory Techni...|              4|       Single|         3068|      11864|                 0|       0|               13|                3|                       3|           80|               0|                8|                    2|              2|             7|                 7|                      3|                   6|        0|[32.0,1005.0,2.0,...|\n",
      "| 59|    Travel_Rarely|     1324|Research & Develo...|               3|        3|       Medical|            1|            10|                      3|Female|        81|             4|       1|Laboratory Techni...|              1|      Married|         2670|       9964|                 4|       1|               20|                4|                       1|           80|               3|               12|                    3|              2|             1|                 0|                      0|                   0|        0|[59.0,1324.0,3.0,...|\n",
      "| 30|    Travel_Rarely|     1358|Research & Develo...|              24|        1| Life Sciences|            1|            11|                      4|  Male|        67|             3|       1|Laboratory Techni...|              3|     Divorced|         2693|      13335|                 1|       0|               22|                4|                       2|           80|               1|                1|                    2|              3|             1|                 0|                      0|                   0|        0|[30.0,1358.0,24.0...|\n",
      "| 38|Travel_Frequently|      216|Research & Develo...|              23|        3| Life Sciences|            1|            12|                      4|  Male|        44|             2|       3|Manufacturing Dir...|              3|       Single|         9526|       8787|                 0|       0|               21|                4|                       2|           80|               0|               10|                    2|              3|             9|                 7|                      1|                   8|        0|[38.0,216.0,23.0,...|\n",
      "| 36|    Travel_Rarely|     1299|Research & Develo...|              27|        3|       Medical|            1|            13|                      3|  Male|        94|             3|       2|Healthcare Repres...|              3|      Married|         5237|      16577|                 6|       0|               13|                3|                       2|           80|               2|               17|                    3|              2|             7|                 7|                      7|                   7|        0|[36.0,1299.0,27.0...|\n",
      "| 35|    Travel_Rarely|      809|Research & Develo...|              16|        3|       Medical|            1|            14|                      1|  Male|        84|             4|       1|Laboratory Techni...|              2|      Married|         2426|      16479|                 0|       0|               13|                3|                       3|           80|               1|                6|                    5|              3|             5|                 4|                      0|                   3|        0|[35.0,809.0,16.0,...|\n",
      "| 29|    Travel_Rarely|      153|Research & Develo...|              15|        2| Life Sciences|            1|            15|                      4|Female|        49|             2|       2|Laboratory Techni...|              3|       Single|         4193|      12682|                 0|       1|               12|                3|                       4|           80|               0|               10|                    3|              3|             9|                 5|                      0|                   8|        0|[29.0,153.0,15.0,...|\n",
      "| 31|    Travel_Rarely|      670|Research & Develo...|              26|        1| Life Sciences|            1|            16|                      1|  Male|        31|             3|       1|  Research Scientist|              3|     Divorced|         2911|      15170|                 1|       0|               17|                3|                       4|           80|               1|                5|                    1|              2|             5|                 2|                      4|                   3|        0|[31.0,670.0,26.0,...|\n",
      "| 34|    Travel_Rarely|     1346|Research & Develo...|              19|        2|       Medical|            1|            18|                      2|  Male|        93|             3|       1|Laboratory Techni...|              4|     Divorced|         2661|       8758|                 0|       0|               11|                3|                       3|           80|               1|                3|                    2|              3|             2|                 2|                      1|                   2|        0|[34.0,1346.0,19.0...|\n",
      "| 28|    Travel_Rarely|      103|Research & Develo...|              24|        3| Life Sciences|            1|            19|                      3|  Male|        50|             2|       1|Laboratory Techni...|              3|       Single|         2028|      12947|                 5|       1|               14|                3|                       2|           80|               0|                6|                    4|              3|             4|                 2|                      0|                   3|        1|[28.0,103.0,24.0,...|\n",
      "| 29|    Travel_Rarely|     1389|Research & Develo...|              21|        4| Life Sciences|            1|            20|                      2|Female|        51|             4|       3|Manufacturing Dir...|              1|     Divorced|         9980|      10195|                 1|       0|               11|                3|                       3|           80|               1|               10|                    1|              3|            10|                 9|                      8|                   8|        0|[29.0,1389.0,21.0...|\n",
      "| 32|    Travel_Rarely|      334|Research & Develo...|               5|        2| Life Sciences|            1|            21|                      1|  Male|        80|             4|       1|  Research Scientist|              2|     Divorced|         3298|      15053|                 0|       1|               12|                3|                       4|           80|               2|                7|                    5|              2|             6|                 2|                      0|                   5|        0|[32.0,334.0,5.0,2...|\n",
      "| 22|        0n-Travel|     1123|Research & Develo...|              16|        2|       Medical|            1|            22|                      4|  Male|        96|             4|       1|Laboratory Techni...|              4|     Divorced|         2935|       7324|                 1|       1|               13|                3|                       2|           80|               2|                1|                    2|              2|             1|                 0|                      0|                   0|        0|[22.0,1123.0,16.0...|\n",
      "| 53|    Travel_Rarely|     1219|               Sales|               2|        4| Life Sciences|            1|            23|                      1|Female|        78|             2|       4|             Manager|              4|      Married|        15427|      22021|                 2|       0|               16|                3|                       3|           80|               0|               31|                    3|              3|            25|                 8|                      3|                   7|        0|[53.0,1219.0,2.0,...|\n",
      "| 38|    Travel_Rarely|      371|Research & Develo...|               2|        3| Life Sciences|            1|            24|                      4|  Male|        45|             3|       1|  Research Scientist|              4|       Single|         3944|       4306|                 5|       1|               11|                3|                       3|           80|               0|                6|                    3|              3|             3|                 2|                      1|                   2|        0|[38.0,371.0,2.0,3...|\n",
      "+---+-----------------+---------+--------------------+----------------+---------+--------------+-------------+--------------+-----------------------+------+----------+--------------+--------+--------------------+---------------+-------------+-------------+-----------+------------------+--------+-----------------+-----------------+------------------------+-------------+----------------+-----------------+---------------------+---------------+--------------+------------------+-----------------------+--------------------+---------+--------------------+\n",
      "only showing top 20 rows\n",
      "\n"
     ]
    }
   ],
   "source": [
    "from pyspark.ml.feature import VectorAssembler\n",
    "\n",
    "numericCols = ['Age','DailyRate','DistanceFromHome','Education','EmployeeCount','EmployeeNumber','EnvironmentSatisfaction','HourlyRate','JobInvolvement',\n",
    " 'JobLevel',\n",
    " 'JobSatisfaction',\n",
    " 'MonthlyIncome',\n",
    " 'MonthlyRate',\n",
    " 'NumCompaniesWorked',\n",
    " 'OverTime',\n",
    " 'PercentSalaryHike',\n",
    " 'PerformanceRating',\n",
    " 'RelationshipSatisfaction',\n",
    " 'StandardHours',\n",
    " 'StockOptionLevel',\n",
    " 'TotalWorkingYears',\n",
    " 'TrainingTimesLastYear',\n",
    " 'WorkLifeBalance',\n",
    " 'YearsAtCompany',\n",
    " 'YearsInCurrentRole',\n",
    " 'YearsSinceLastPromotion',\n",
    " 'YearsWithCurrManager']\n",
    "assembler = VectorAssembler(inputCols=numericCols, outputCol=\"features\")\n",
    "df_f = assembler.transform(df_f)\n",
    "df_f.show()"
   ]
  },
  {
   "cell_type": "code",
   "execution_count": 205,
   "id": "81293de3-be3c-4142-a26a-913a9270429f",
   "metadata": {},
   "outputs": [
    {
     "data": {
      "text/plain": [
       "[('Age', 'int'),\n",
       " ('BusinessTravel', 'string'),\n",
       " ('DailyRate', 'int'),\n",
       " ('Department', 'string'),\n",
       " ('DistanceFromHome', 'int'),\n",
       " ('Education', 'int'),\n",
       " ('EducationField', 'string'),\n",
       " ('EmployeeCount', 'int'),\n",
       " ('EmployeeNumber', 'int'),\n",
       " ('EnvironmentSatisfaction', 'int'),\n",
       " ('Gender', 'string'),\n",
       " ('HourlyRate', 'int'),\n",
       " ('JobInvolvement', 'int'),\n",
       " ('JobLevel', 'int'),\n",
       " ('JobRole', 'string'),\n",
       " ('JobSatisfaction', 'int'),\n",
       " ('MaritalStatus', 'string'),\n",
       " ('MonthlyIncome', 'int'),\n",
       " ('MonthlyRate', 'int'),\n",
       " ('NumCompaniesWorked', 'int'),\n",
       " ('OverTime', 'int'),\n",
       " ('PercentSalaryHike', 'int'),\n",
       " ('PerformanceRating', 'int'),\n",
       " ('RelationshipSatisfaction', 'int'),\n",
       " ('StandardHours', 'int'),\n",
       " ('StockOptionLevel', 'int'),\n",
       " ('TotalWorkingYears', 'int'),\n",
       " ('TrainingTimesLastYear', 'int'),\n",
       " ('WorkLifeBalance', 'int'),\n",
       " ('YearsAtCompany', 'int'),\n",
       " ('YearsInCurrentRole', 'int'),\n",
       " ('YearsSinceLastPromotion', 'int'),\n",
       " ('YearsWithCurrManager', 'int'),\n",
       " ('Attrition', 'int'),\n",
       " ('features', 'vector')]"
      ]
     },
     "execution_count": 205,
     "metadata": {},
     "output_type": "execute_result"
    }
   ],
   "source": [
    "df_f.dtypes"
   ]
  },
  {
   "cell_type": "code",
   "execution_count": 206,
   "id": "a1302227-d318-4cc3-ba4c-fdd20bf85d37",
   "metadata": {},
   "outputs": [],
   "source": [
    "from pyspark.ml.feature import StringIndexer\n",
    "from pyspark.ml import Pipeline\n",
    "#string_Cols=['BusinessTravel','Department','EducationField','Gender','JobRole','MaritalStatus']\n",
    "#label_stringIdx = StringIndexer(inputCol = string_Cols, outputCol = 'labelIndex')\n",
    "#df_f = label_stringIdx.fit(df_f).transform(df_f)\n",
    "#df_f.show()\n",
    "categoricalColumns = [item[0] for item in df_f.dtypes if item[1].startswith('string') ]\n",
    "\n",
    "#define a list of stages in your pipeline. The string indexer will be one stage\n",
    "stages = []\n",
    "\n",
    "#iterate through all categorical values\n",
    "for categoricalCol in categoricalColumns:\n",
    "    #create a string indexer for those categorical values and assign a new name including the word 'Index'\n",
    "    stringIndexer = StringIndexer(inputCol = categoricalCol, outputCol = categoricalCol + 'Index')\n",
    "\n",
    "    #append the string Indexer to our list of stages\n",
    "    stages += [stringIndexer]\n",
    "\n",
    "#Create the pipeline. Assign the satges list to the pipeline key word stages\n",
    "pipeline = Pipeline(stages = stages)\n",
    "#fit the pipeline to our dataframe\n",
    "pipelineModel = pipeline.fit(df_f)\n",
    "#transform the dataframe\n",
    "df_f= pipelineModel.transform(df_f)"
   ]
  },
  {
   "cell_type": "code",
   "execution_count": 207,
   "id": "da71d22a-0c05-4a3d-892b-2d58f99fc294",
   "metadata": {},
   "outputs": [
    {
     "data": {
      "text/plain": [
       "[('Age', 'int'),\n",
       " ('BusinessTravel', 'string'),\n",
       " ('DailyRate', 'int'),\n",
       " ('Department', 'string'),\n",
       " ('DistanceFromHome', 'int'),\n",
       " ('Education', 'int'),\n",
       " ('EducationField', 'string'),\n",
       " ('EmployeeCount', 'int'),\n",
       " ('EmployeeNumber', 'int'),\n",
       " ('EnvironmentSatisfaction', 'int'),\n",
       " ('Gender', 'string'),\n",
       " ('HourlyRate', 'int'),\n",
       " ('JobInvolvement', 'int'),\n",
       " ('JobLevel', 'int'),\n",
       " ('JobRole', 'string'),\n",
       " ('JobSatisfaction', 'int'),\n",
       " ('MaritalStatus', 'string'),\n",
       " ('MonthlyIncome', 'int'),\n",
       " ('MonthlyRate', 'int'),\n",
       " ('NumCompaniesWorked', 'int'),\n",
       " ('OverTime', 'int'),\n",
       " ('PercentSalaryHike', 'int'),\n",
       " ('PerformanceRating', 'int'),\n",
       " ('RelationshipSatisfaction', 'int'),\n",
       " ('StandardHours', 'int'),\n",
       " ('StockOptionLevel', 'int'),\n",
       " ('TotalWorkingYears', 'int'),\n",
       " ('TrainingTimesLastYear', 'int'),\n",
       " ('WorkLifeBalance', 'int'),\n",
       " ('YearsAtCompany', 'int'),\n",
       " ('YearsInCurrentRole', 'int'),\n",
       " ('YearsSinceLastPromotion', 'int'),\n",
       " ('YearsWithCurrManager', 'int'),\n",
       " ('Attrition', 'int'),\n",
       " ('features', 'vector'),\n",
       " ('BusinessTravelIndex', 'double'),\n",
       " ('DepartmentIndex', 'double'),\n",
       " ('EducationFieldIndex', 'double'),\n",
       " ('GenderIndex', 'double'),\n",
       " ('JobRoleIndex', 'double'),\n",
       " ('MaritalStatusIndex', 'double')]"
      ]
     },
     "execution_count": 207,
     "metadata": {},
     "output_type": "execute_result"
    }
   ],
   "source": [
    "df_f.dtypes"
   ]
  },
  {
   "cell_type": "code",
   "execution_count": 208,
   "id": "1e90a257-fb85-41d0-b4eb-554d820fde2c",
   "metadata": {},
   "outputs": [
    {
     "name": "stdout",
     "output_type": "stream",
     "text": [
      "Training Dataset Count: 1037\n",
      "Test Dataset Count: 433\n"
     ]
    }
   ],
   "source": [
    "train, test = df_f.randomSplit([0.7, 0.3], seed = 2018)\n",
    "print(\"Training Dataset Count: \" + str(train.count()))\n",
    "print(\"Test Dataset Count: \" + str(test.count()))"
   ]
  },
  {
   "cell_type": "code",
   "execution_count": 209,
   "id": "0fb3670c-8dc4-40bf-a4e3-9ba3882fe702",
   "metadata": {},
   "outputs": [
    {
     "name": "stdout",
     "output_type": "stream",
     "text": [
      "+--------------------+---------+--------------------+\n",
      "|            features|Attrition|         probability|\n",
      "+--------------------+---------+--------------------+\n",
      "|[18.0,247.0,8.0,1...|        1|[0.65831213655885...|\n",
      "|[19.0,504.0,10.0,...|        1|[0.34318684411563...|\n",
      "|[19.0,303.0,2.0,3...|        1|[0.64551303738890...|\n",
      "|[19.0,419.0,21.0,...|        1|[0.23708731267386...|\n",
      "|[19.0,1181.0,3.0,...|        0|[0.74547000992577...|\n",
      "|[20.0,129.0,4.0,3...|        1|[0.72155184272452...|\n",
      "|[20.0,805.0,3.0,3...|        0|[0.71485293144418...|\n",
      "|[21.0,756.0,1.0,1...|        1|[0.58478314680698...|\n",
      "|[21.0,337.0,7.0,1...|        1|[0.63547091156978...|\n",
      "|[21.0,391.0,15.0,...|        0|[0.61392450972173...|\n",
      "|[21.0,546.0,5.0,1...|        0|[0.83686959783249...|\n",
      "|[21.0,1343.0,22.0...|        0|[0.83266627743057...|\n",
      "|[22.0,1123.0,16.0...|        0|[0.73791499543443...|\n",
      "|[22.0,1256.0,3.0,...|        1|[0.59470700035698...|\n",
      "|[22.0,581.0,1.0,2...|        0|[0.87427268308245...|\n",
      "|[23.0,427.0,7.0,3...|        1|[0.52181956148025...|\n",
      "|[23.0,571.0,12.0,...|        0|[0.87422439034795...|\n",
      "|[23.0,1243.0,6.0,...|        1|[0.61776501137434...|\n",
      "|[23.0,1309.0,26.0...|        0|[0.90398519985915...|\n",
      "|[24.0,1269.0,4.0,...|        0|[0.8917387465904,...|\n",
      "|[24.0,381.0,9.0,3...|        1|[0.56410534646167...|\n",
      "|[24.0,535.0,24.0,...|        0|[0.81126206671802...|\n",
      "|[24.0,581.0,9.0,3...|        0|[0.93425693633434...|\n",
      "|[24.0,771.0,1.0,2...|        0|[0.91747688736060...|\n",
      "|[24.0,813.0,1.0,3...|        1|[0.57740548495764...|\n",
      "+--------------------+---------+--------------------+\n",
      "only showing top 25 rows\n",
      "\n"
     ]
    }
   ],
   "source": [
    "from pyspark.ml.classification import RandomForestClassifier\n",
    "\n",
    "rf = RandomForestClassifier(featuresCol = 'features', labelCol = 'Attrition')\n",
    "rfModel = rf.fit(train)\n",
    "predictions = rfModel.transform(test)\n",
    "predictions.select('features' ,'Attrition', 'probability').show(25)\n"
   ]
  },
  {
   "cell_type": "code",
   "execution_count": 210,
   "id": "c9297f27-dd95-40c0-81c7-b3bad625aa49",
   "metadata": {},
   "outputs": [
    {
     "name": "stdout",
     "output_type": "stream",
     "text": [
      "+---------+----------+\n",
      "|Attrition|prediction|\n",
      "+---------+----------+\n",
      "|        1|       0.0|\n",
      "|        1|       1.0|\n",
      "|        1|       0.0|\n",
      "|        1|       1.0|\n",
      "|        0|       0.0|\n",
      "|        1|       0.0|\n",
      "|        0|       0.0|\n",
      "|        1|       0.0|\n",
      "|        1|       0.0|\n",
      "|        0|       0.0|\n",
      "+---------+----------+\n",
      "only showing top 10 rows\n",
      "\n"
     ]
    }
   ],
   "source": [
    "predictions.select(\"Attrition\", \"prediction\").show(10)"
   ]
  },
  {
   "cell_type": "code",
   "execution_count": 211,
   "id": "7281a076-81e5-43f7-b072-c8aedac456ee",
   "metadata": {},
   "outputs": [
    {
     "name": "stdout",
     "output_type": "stream",
     "text": [
      "Accuracy = 0.8137932455101891\n",
      "Test Error = 0.18620675448981094\n"
     ]
    }
   ],
   "source": [
    "from pyspark.ml.evaluation import MulticlassClassificationEvaluator\n",
    "\n",
    "evaluator = MulticlassClassificationEvaluator(labelCol=\"Attrition\", predictionCol=\"prediction\")\n",
    "accuracy = evaluator.evaluate(predictions)\n",
    "print(\"Accuracy = %s\" % (accuracy))\n",
    "print(\"Test Error = %s\" % (1.0 - accuracy))"
   ]
  },
  {
   "cell_type": "code",
   "execution_count": 212,
   "id": "9c809bd7-f0b5-4b5f-b198-f36547008591",
   "metadata": {},
   "outputs": [
    {
     "name": "stdout",
     "output_type": "stream",
     "text": [
      "              precision    recall  f1-score   support\n",
      "\n",
      "           0       0.86      1.00      0.93       370\n",
      "           1       1.00      0.08      0.15        63\n",
      "\n",
      "    accuracy                           0.87       433\n",
      "   macro avg       0.93      0.54      0.54       433\n",
      "weighted avg       0.88      0.87      0.81       433\n",
      "\n"
     ]
    }
   ],
   "source": [
    "import sklearn\n",
    "y_true = predictions.select(['Attrition']).collect()\n",
    "y_pred = predictions.select(['prediction']).collect()\n",
    "\n",
    "from sklearn.metrics import classification_report, confusion_matrix\n",
    "print(classification_report(y_true, y_pred))"
   ]
  },
  {
   "cell_type": "code",
   "execution_count": 213,
   "id": "3037dffc-52a8-4ff4-8d19-3fc8582093a7",
   "metadata": {},
   "outputs": [],
   "source": [
    "rdd = df.rdd.map(list)"
   ]
  },
  {
   "cell_type": "code",
   "execution_count": 214,
   "id": "aa434546-ce4d-49c9-806f-8db25b10f6cc",
   "metadata": {},
   "outputs": [],
   "source": [
    "data = [1,2,3,4,5,6,7,8,9,10,11,12]\n",
    "rdd1=spark.sparkContext.parallelize(data)"
   ]
  },
  {
   "cell_type": "code",
   "execution_count": 215,
   "id": "acd1bb2a-db1a-42f8-aa99-6ce1e572fe50",
   "metadata": {},
   "outputs": [],
   "source": [
    "re_rdd=rdd.repartition(5)"
   ]
  },
  {
   "cell_type": "code",
   "execution_count": 216,
   "id": "5c3e512f-d331-4c0a-a9d8-a155ec68fc2e",
   "metadata": {},
   "outputs": [],
   "source": [
    "co_rdd=rdd.coalesce(2)"
   ]
  },
  {
   "cell_type": "code",
   "execution_count": 217,
   "id": "3bb9cd25-f160-4cd1-b73e-d6574d39ab0d",
   "metadata": {},
   "outputs": [],
   "source": [
    "map_rdd=rdd.map(lambda x,y: x+y)"
   ]
  },
  {
   "cell_type": "code",
   "execution_count": 218,
   "id": "71a4e78d-f37d-41ca-9775-f18c5603cbed",
   "metadata": {},
   "outputs": [],
   "source": [
    "filter_rdd = rdd.filter(lambda x : 'an' in x[1])"
   ]
  },
  {
   "cell_type": "code",
   "execution_count": 219,
   "id": "5b4cf109-4d64-4607-a37d-89e167ff6e16",
   "metadata": {},
   "outputs": [
    {
     "data": {
      "text/plain": [
       "10"
      ]
     },
     "execution_count": 219,
     "metadata": {},
     "output_type": "execute_result"
    }
   ],
   "source": [
    "a=10\n",
    "broadcastVar = spark.sparkContext.broadcast(a)\n",
    "broadcastVar.value"
   ]
  },
  {
   "cell_type": "code",
   "execution_count": 220,
   "id": "9b386a5c-1a65-4dc9-b18e-fd1753430c46",
   "metadata": {},
   "outputs": [
    {
     "data": {
      "text/plain": [
       "'INDIA'"
      ]
     },
     "execution_count": 220,
     "metadata": {},
     "output_type": "execute_result"
    }
   ],
   "source": [
    "IN=\"INDIA\"\n",
    "bcv=spark.sparkContext.broadcast(IN)\n",
    "bcv.value"
   ]
  },
  {
   "cell_type": "code",
   "execution_count": 221,
   "id": "149845ad-9879-49a7-9b97-e16a131be28b",
   "metadata": {},
   "outputs": [
    {
     "data": {
      "text/html": [
       "<div>\n",
       "<style scoped>\n",
       "    .dataframe tbody tr th:only-of-type {\n",
       "        vertical-align: middle;\n",
       "    }\n",
       "\n",
       "    .dataframe tbody tr th {\n",
       "        vertical-align: top;\n",
       "    }\n",
       "\n",
       "    .dataframe thead th {\n",
       "        text-align: right;\n",
       "    }\n",
       "</style>\n",
       "<table border=\"1\" class=\"dataframe\">\n",
       "  <thead>\n",
       "    <tr style=\"text-align: right;\">\n",
       "      <th></th>\n",
       "      <th>Age</th>\n",
       "      <th>BusinessTravel</th>\n",
       "      <th>DailyRate</th>\n",
       "      <th>Department</th>\n",
       "      <th>DistanceFromHome</th>\n",
       "      <th>Education</th>\n",
       "      <th>EducationField</th>\n",
       "      <th>EmployeeCount</th>\n",
       "      <th>EmployeeNumber</th>\n",
       "      <th>EnvironmentSatisfaction</th>\n",
       "      <th>...</th>\n",
       "      <th>StandardHours</th>\n",
       "      <th>StockOptionLevel</th>\n",
       "      <th>TotalWorkingYears</th>\n",
       "      <th>TrainingTimesLastYear</th>\n",
       "      <th>WorkLifeBalance</th>\n",
       "      <th>YearsAtCompany</th>\n",
       "      <th>YearsInCurrentRole</th>\n",
       "      <th>YearsSinceLastPromotion</th>\n",
       "      <th>YearsWithCurrManager</th>\n",
       "      <th>Attrition</th>\n",
       "    </tr>\n",
       "  </thead>\n",
       "  <tbody>\n",
       "    <tr>\n",
       "      <th>0</th>\n",
       "      <td>49</td>\n",
       "      <td>Travel_Frequently</td>\n",
       "      <td>279</td>\n",
       "      <td>Research &amp; Development</td>\n",
       "      <td>8</td>\n",
       "      <td>1</td>\n",
       "      <td>Life Sciences</td>\n",
       "      <td>1</td>\n",
       "      <td>2</td>\n",
       "      <td>3</td>\n",
       "      <td>...</td>\n",
       "      <td>80</td>\n",
       "      <td>1</td>\n",
       "      <td>10</td>\n",
       "      <td>3</td>\n",
       "      <td>3</td>\n",
       "      <td>10</td>\n",
       "      <td>7</td>\n",
       "      <td>1</td>\n",
       "      <td>7</td>\n",
       "      <td>0</td>\n",
       "    </tr>\n",
       "    <tr>\n",
       "      <th>1</th>\n",
       "      <td>38</td>\n",
       "      <td>Travel_Frequently</td>\n",
       "      <td>216</td>\n",
       "      <td>Research &amp; Development</td>\n",
       "      <td>23</td>\n",
       "      <td>3</td>\n",
       "      <td>Life Sciences</td>\n",
       "      <td>1</td>\n",
       "      <td>12</td>\n",
       "      <td>4</td>\n",
       "      <td>...</td>\n",
       "      <td>80</td>\n",
       "      <td>0</td>\n",
       "      <td>10</td>\n",
       "      <td>2</td>\n",
       "      <td>3</td>\n",
       "      <td>9</td>\n",
       "      <td>7</td>\n",
       "      <td>1</td>\n",
       "      <td>8</td>\n",
       "      <td>0</td>\n",
       "    </tr>\n",
       "    <tr>\n",
       "      <th>2</th>\n",
       "      <td>29</td>\n",
       "      <td>Travel_Rarely</td>\n",
       "      <td>153</td>\n",
       "      <td>Research &amp; Development</td>\n",
       "      <td>15</td>\n",
       "      <td>2</td>\n",
       "      <td>Life Sciences</td>\n",
       "      <td>1</td>\n",
       "      <td>15</td>\n",
       "      <td>4</td>\n",
       "      <td>...</td>\n",
       "      <td>80</td>\n",
       "      <td>0</td>\n",
       "      <td>10</td>\n",
       "      <td>3</td>\n",
       "      <td>3</td>\n",
       "      <td>9</td>\n",
       "      <td>5</td>\n",
       "      <td>0</td>\n",
       "      <td>8</td>\n",
       "      <td>0</td>\n",
       "    </tr>\n",
       "    <tr>\n",
       "      <th>3</th>\n",
       "      <td>29</td>\n",
       "      <td>Travel_Rarely</td>\n",
       "      <td>1389</td>\n",
       "      <td>Research &amp; Development</td>\n",
       "      <td>21</td>\n",
       "      <td>4</td>\n",
       "      <td>Life Sciences</td>\n",
       "      <td>1</td>\n",
       "      <td>20</td>\n",
       "      <td>2</td>\n",
       "      <td>...</td>\n",
       "      <td>80</td>\n",
       "      <td>1</td>\n",
       "      <td>10</td>\n",
       "      <td>1</td>\n",
       "      <td>3</td>\n",
       "      <td>10</td>\n",
       "      <td>9</td>\n",
       "      <td>8</td>\n",
       "      <td>8</td>\n",
       "      <td>0</td>\n",
       "    </tr>\n",
       "    <tr>\n",
       "      <th>4</th>\n",
       "      <td>36</td>\n",
       "      <td>Travel_Rarely</td>\n",
       "      <td>1218</td>\n",
       "      <td>Sales</td>\n",
       "      <td>9</td>\n",
       "      <td>4</td>\n",
       "      <td>Life Sciences</td>\n",
       "      <td>1</td>\n",
       "      <td>27</td>\n",
       "      <td>3</td>\n",
       "      <td>...</td>\n",
       "      <td>80</td>\n",
       "      <td>0</td>\n",
       "      <td>10</td>\n",
       "      <td>4</td>\n",
       "      <td>3</td>\n",
       "      <td>5</td>\n",
       "      <td>3</td>\n",
       "      <td>0</td>\n",
       "      <td>3</td>\n",
       "      <td>1</td>\n",
       "    </tr>\n",
       "    <tr>\n",
       "      <th>...</th>\n",
       "      <td>...</td>\n",
       "      <td>...</td>\n",
       "      <td>...</td>\n",
       "      <td>...</td>\n",
       "      <td>...</td>\n",
       "      <td>...</td>\n",
       "      <td>...</td>\n",
       "      <td>...</td>\n",
       "      <td>...</td>\n",
       "      <td>...</td>\n",
       "      <td>...</td>\n",
       "      <td>...</td>\n",
       "      <td>...</td>\n",
       "      <td>...</td>\n",
       "      <td>...</td>\n",
       "      <td>...</td>\n",
       "      <td>...</td>\n",
       "      <td>...</td>\n",
       "      <td>...</td>\n",
       "      <td>...</td>\n",
       "      <td>...</td>\n",
       "    </tr>\n",
       "    <tr>\n",
       "      <th>197</th>\n",
       "      <td>36</td>\n",
       "      <td>Travel_Rarely</td>\n",
       "      <td>557</td>\n",
       "      <td>Sales</td>\n",
       "      <td>3</td>\n",
       "      <td>3</td>\n",
       "      <td>Medical</td>\n",
       "      <td>1</td>\n",
       "      <td>2024</td>\n",
       "      <td>1</td>\n",
       "      <td>...</td>\n",
       "      <td>80</td>\n",
       "      <td>2</td>\n",
       "      <td>10</td>\n",
       "      <td>2</td>\n",
       "      <td>3</td>\n",
       "      <td>9</td>\n",
       "      <td>7</td>\n",
       "      <td>3</td>\n",
       "      <td>4</td>\n",
       "      <td>0</td>\n",
       "    </tr>\n",
       "    <tr>\n",
       "      <th>198</th>\n",
       "      <td>38</td>\n",
       "      <td>Travel_Rarely</td>\n",
       "      <td>345</td>\n",
       "      <td>Sales</td>\n",
       "      <td>10</td>\n",
       "      <td>2</td>\n",
       "      <td>Life Sciences</td>\n",
       "      <td>1</td>\n",
       "      <td>2041</td>\n",
       "      <td>1</td>\n",
       "      <td>...</td>\n",
       "      <td>80</td>\n",
       "      <td>1</td>\n",
       "      <td>10</td>\n",
       "      <td>1</td>\n",
       "      <td>3</td>\n",
       "      <td>10</td>\n",
       "      <td>7</td>\n",
       "      <td>1</td>\n",
       "      <td>9</td>\n",
       "      <td>0</td>\n",
       "    </tr>\n",
       "    <tr>\n",
       "      <th>199</th>\n",
       "      <td>35</td>\n",
       "      <td>Travel_Frequently</td>\n",
       "      <td>1199</td>\n",
       "      <td>Research &amp; Development</td>\n",
       "      <td>18</td>\n",
       "      <td>4</td>\n",
       "      <td>Life Sciences</td>\n",
       "      <td>1</td>\n",
       "      <td>2049</td>\n",
       "      <td>3</td>\n",
       "      <td>...</td>\n",
       "      <td>80</td>\n",
       "      <td>2</td>\n",
       "      <td>10</td>\n",
       "      <td>2</td>\n",
       "      <td>4</td>\n",
       "      <td>10</td>\n",
       "      <td>2</td>\n",
       "      <td>0</td>\n",
       "      <td>2</td>\n",
       "      <td>0</td>\n",
       "    </tr>\n",
       "    <tr>\n",
       "      <th>200</th>\n",
       "      <td>29</td>\n",
       "      <td>Travel_Rarely</td>\n",
       "      <td>1378</td>\n",
       "      <td>Research &amp; Development</td>\n",
       "      <td>13</td>\n",
       "      <td>2</td>\n",
       "      <td>Other</td>\n",
       "      <td>1</td>\n",
       "      <td>2053</td>\n",
       "      <td>4</td>\n",
       "      <td>...</td>\n",
       "      <td>80</td>\n",
       "      <td>1</td>\n",
       "      <td>10</td>\n",
       "      <td>2</td>\n",
       "      <td>3</td>\n",
       "      <td>4</td>\n",
       "      <td>3</td>\n",
       "      <td>0</td>\n",
       "      <td>3</td>\n",
       "      <td>0</td>\n",
       "    </tr>\n",
       "    <tr>\n",
       "      <th>201</th>\n",
       "      <td>31</td>\n",
       "      <td>0n-Travel</td>\n",
       "      <td>325</td>\n",
       "      <td>Research &amp; Development</td>\n",
       "      <td>5</td>\n",
       "      <td>3</td>\n",
       "      <td>Medical</td>\n",
       "      <td>1</td>\n",
       "      <td>2057</td>\n",
       "      <td>2</td>\n",
       "      <td>...</td>\n",
       "      <td>80</td>\n",
       "      <td>0</td>\n",
       "      <td>10</td>\n",
       "      <td>2</td>\n",
       "      <td>3</td>\n",
       "      <td>9</td>\n",
       "      <td>4</td>\n",
       "      <td>1</td>\n",
       "      <td>7</td>\n",
       "      <td>0</td>\n",
       "    </tr>\n",
       "  </tbody>\n",
       "</table>\n",
       "<p>202 rows × 34 columns</p>\n",
       "</div>"
      ],
      "text/plain": [
       "     Age     BusinessTravel  DailyRate              Department  \\\n",
       "0     49  Travel_Frequently        279  Research & Development   \n",
       "1     38  Travel_Frequently        216  Research & Development   \n",
       "2     29      Travel_Rarely        153  Research & Development   \n",
       "3     29      Travel_Rarely       1389  Research & Development   \n",
       "4     36      Travel_Rarely       1218                   Sales   \n",
       "..   ...                ...        ...                     ...   \n",
       "197   36      Travel_Rarely        557                   Sales   \n",
       "198   38      Travel_Rarely        345                   Sales   \n",
       "199   35  Travel_Frequently       1199  Research & Development   \n",
       "200   29      Travel_Rarely       1378  Research & Development   \n",
       "201   31          0n-Travel        325  Research & Development   \n",
       "\n",
       "     DistanceFromHome  Education EducationField  EmployeeCount  \\\n",
       "0                   8          1  Life Sciences              1   \n",
       "1                  23          3  Life Sciences              1   \n",
       "2                  15          2  Life Sciences              1   \n",
       "3                  21          4  Life Sciences              1   \n",
       "4                   9          4  Life Sciences              1   \n",
       "..                ...        ...            ...            ...   \n",
       "197                 3          3        Medical              1   \n",
       "198                10          2  Life Sciences              1   \n",
       "199                18          4  Life Sciences              1   \n",
       "200                13          2          Other              1   \n",
       "201                 5          3        Medical              1   \n",
       "\n",
       "     EmployeeNumber  EnvironmentSatisfaction  ... StandardHours  \\\n",
       "0                 2                        3  ...            80   \n",
       "1                12                        4  ...            80   \n",
       "2                15                        4  ...            80   \n",
       "3                20                        2  ...            80   \n",
       "4                27                        3  ...            80   \n",
       "..              ...                      ...  ...           ...   \n",
       "197            2024                        1  ...            80   \n",
       "198            2041                        1  ...            80   \n",
       "199            2049                        3  ...            80   \n",
       "200            2053                        4  ...            80   \n",
       "201            2057                        2  ...            80   \n",
       "\n",
       "     StockOptionLevel  TotalWorkingYears  TrainingTimesLastYear  \\\n",
       "0                   1                 10                      3   \n",
       "1                   0                 10                      2   \n",
       "2                   0                 10                      3   \n",
       "3                   1                 10                      1   \n",
       "4                   0                 10                      4   \n",
       "..                ...                ...                    ...   \n",
       "197                 2                 10                      2   \n",
       "198                 1                 10                      1   \n",
       "199                 2                 10                      2   \n",
       "200                 1                 10                      2   \n",
       "201                 0                 10                      2   \n",
       "\n",
       "    WorkLifeBalance  YearsAtCompany YearsInCurrentRole  \\\n",
       "0                 3              10                  7   \n",
       "1                 3               9                  7   \n",
       "2                 3               9                  5   \n",
       "3                 3              10                  9   \n",
       "4                 3               5                  3   \n",
       "..              ...             ...                ...   \n",
       "197               3               9                  7   \n",
       "198               3              10                  7   \n",
       "199               4              10                  2   \n",
       "200               3               4                  3   \n",
       "201               3               9                  4   \n",
       "\n",
       "     YearsSinceLastPromotion  YearsWithCurrManager  Attrition  \n",
       "0                          1                     7          0  \n",
       "1                          1                     8          0  \n",
       "2                          0                     8          0  \n",
       "3                          8                     8          0  \n",
       "4                          0                     3          1  \n",
       "..                       ...                   ...        ...  \n",
       "197                        3                     4          0  \n",
       "198                        1                     9          0  \n",
       "199                        0                     2          0  \n",
       "200                        0                     3          0  \n",
       "201                        1                     7          0  \n",
       "\n",
       "[202 rows x 34 columns]"
      ]
     },
     "execution_count": 221,
     "metadata": {},
     "output_type": "execute_result"
    }
   ],
   "source": [
    "filteDf= df.where((df['TotalWorkingYears'].isin(broadcastVar.value)))\n",
    "filteDf.toPandas()"
   ]
  },
  {
   "cell_type": "code",
   "execution_count": 224,
   "id": "3e753d32-17ff-4c5d-9b97-6fc0894bdb07",
   "metadata": {},
   "outputs": [],
   "source": [
    "spark.stop()"
   ]
  }
 ],
 "metadata": {
  "kernelspec": {
   "display_name": "Python 3 (ipykernel)",
   "language": "python",
   "name": "python3"
  },
  "language_info": {
   "codemirror_mode": {
    "name": "ipython",
    "version": 3
   },
   "file_extension": ".py",
   "mimetype": "text/x-python",
   "name": "python",
   "nbconvert_exporter": "python",
   "pygments_lexer": "ipython3",
   "version": "3.9.18"
  }
 },
 "nbformat": 4,
 "nbformat_minor": 5
}
